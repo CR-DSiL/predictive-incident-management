{
 "cells": [
  {
   "cell_type": "markdown",
   "id": "25e7acf9",
   "metadata": {},
   "source": [
    "#### Import the required Libraries "
   ]
  },
  {
   "cell_type": "code",
   "execution_count": null,
   "id": "89702598",
   "metadata": {},
   "outputs": [],
   "source": [
    "#Data handling packages\n",
    "import pandas as pd\n",
    "\n",
    "#Data processing packages\n",
    "import numpy as np\n",
    "\n",
    "#Visualization packages\n",
    "import matplotlib.pyplot as plt\n",
    "import seaborn as sns\n",
    "%matplotlib inline\n",
    "\n",
    "#Additional libraries \n",
    "import re\n",
    "import string\n",
    "import time\n",
    "import os\n",
    "\n",
    "#NLP based libraries\n",
    "from wordcloud import WordCloud, STOPWORDS\n",
    "from langdetect import detect\n",
    "from sklearn.feature_extraction.text import CountVectorizer\n",
    "import googletrans\n",
    "from googletrans import Translator\n",
    "\n",
    "\n",
    "#Preprocessing and model building libraries\n",
    "from sklearn.feature_extraction.text import TfidfVectorizer\n",
    "from sklearn import preprocessing\n",
    "from sklearn.preprocessing import LabelEncoder\n",
    "from sklearn.model_selection import train_test_split\n",
    "from sklearn.metrics import accuracy_score\n",
    "from sklearn.metrics import confusion_matrix\n",
    "from sklearn.metrics import classification_report\n",
    "from sklearn.metrics import make_scorer, roc_curve, roc_auc_score\n",
    "from sklearn.metrics import precision_recall_fscore_support as score\n",
    "from sklearn.svm import SVC, LinearSVC\n",
    "from sklearn.tree import DecisionTreeClassifier\n",
    "from sklearn.ensemble import RandomForestClassifier\n",
    "from sklearn.neighbors import KNeighborsClassifier\n",
    "from sklearn.naive_bayes import GaussianNB,MultinomialNB,BernoulliNB\n",
    "from sklearn.linear_model import LogisticRegression \n",
    "from sklearn.model_selection import cross_val_score\n",
    "from sklearn import metrics\n",
    "from xgboost import XGBClassifier\n",
    "from sklearn.feature_selection import chi2\n",
    "from sklearn.ensemble import GradientBoostingClassifier\n",
    "\n",
    "\n",
    "#framework \n",
    "import tensorflow as tf\n",
    "import tensorflow_hub as hub\n",
    "import tensorflow_text as text"
   ]
  },
  {
   "cell_type": "code",
   "execution_count": null,
   "id": "43f4e062",
   "metadata": {},
   "outputs": [],
   "source": [
    "data= pd.read_csv(\"C:\\\\Users\\\\Riyaz Mehendi\\\\OneDrive - CriticalRiver Technologies Pvt. Ltd\\\\Desktop\\\\MVP Incident Management\\\\pim-assignment-group-prediction\\\\data\\\\processed\\\\final_processed_data_1_EBS.csv\")"
   ]
  },
  {
   "cell_type": "code",
   "execution_count": null,
   "id": "476907f1",
   "metadata": {},
   "outputs": [],
   "source": [
    "data"
   ]
  },
  {
   "cell_type": "code",
   "execution_count": null,
   "id": "f9654831",
   "metadata": {},
   "outputs": [],
   "source": [
    "data.info()"
   ]
  },
  {
   "cell_type": "code",
   "execution_count": null,
   "id": "c64b2f68",
   "metadata": {},
   "outputs": [],
   "source": [
    "data.columns"
   ]
  },
  {
   "cell_type": "code",
   "execution_count": null,
   "id": "0d25dacd",
   "metadata": {},
   "outputs": [],
   "source": [
    "data=data.drop(['Opened','Resolved',\n",
    "       'Business resolve time', 'name_string_validation', 'langue',\n",
    "       'translated_text','string_length'], axis = 1)"
   ]
  },
  {
   "cell_type": "code",
   "execution_count": null,
   "id": "d4646e19",
   "metadata": {},
   "outputs": [],
   "source": [
    "data"
   ]
  },
  {
   "cell_type": "code",
   "execution_count": null,
   "id": "894845fe",
   "metadata": {},
   "outputs": [],
   "source": [
    "data = data.replace(['Desktop Services UK', 'Desktop Services Brazil', 'Desktop Services USA Central','Desktop Services India','Desktop Services USA West','Desktop Services Germany','Desktop Services Singapore','Desktop Services USA East',\n",
    " 'Desktop Services Mexico','Desktop Services China','Desktop Services Canada','Desktop Services France','Desktop Services Romania','Desktop Services Thailand'], 'Desktop Services')\n"
   ]
  },
  {
   "cell_type": "code",
   "execution_count": null,
   "id": "8fd7cf7e",
   "metadata": {},
   "outputs": [],
   "source": [
    "data"
   ]
  },
  {
   "cell_type": "code",
   "execution_count": null,
   "id": "c2fa9175",
   "metadata": {},
   "outputs": [],
   "source": [
    "target_names = data['Assignment group'].unique()"
   ]
  },
  {
   "cell_type": "code",
   "execution_count": null,
   "id": "dc890462",
   "metadata": {},
   "outputs": [],
   "source": [
    "type(target_names)"
   ]
  },
  {
   "cell_type": "code",
   "execution_count": null,
   "id": "444ae701",
   "metadata": {},
   "outputs": [],
   "source": [
    "target_names=list(target_names)"
   ]
  },
  {
   "cell_type": "code",
   "execution_count": null,
   "id": "c0d545fe",
   "metadata": {},
   "outputs": [],
   "source": [
    "target_names"
   ]
  },
  {
   "cell_type": "code",
   "execution_count": null,
   "id": "2dd875b3",
   "metadata": {},
   "outputs": [],
   "source": [
    "len(target_names)"
   ]
  },
  {
   "cell_type": "code",
   "execution_count": null,
   "id": "80fdc79e",
   "metadata": {},
   "outputs": [],
   "source": [
    "data.isnull().sum()"
   ]
  },
  {
   "cell_type": "code",
   "execution_count": null,
   "id": "05e61586",
   "metadata": {},
   "outputs": [],
   "source": [
    "data = data.replace(np.nan, 'Others')"
   ]
  },
  {
   "cell_type": "code",
   "execution_count": null,
   "id": "75df50c1",
   "metadata": {},
   "outputs": [],
   "source": [
    "data.isnull().sum()"
   ]
  },
  {
   "cell_type": "code",
   "execution_count": null,
   "id": "2679ce72",
   "metadata": {},
   "outputs": [],
   "source": [
    "data['cleaned_name']=data['cleaned_name'].astype(str)"
   ]
  },
  {
   "cell_type": "markdown",
   "id": "2c366be6",
   "metadata": {},
   "source": [
    "Encoding the categorical variables"
   ]
  },
  {
   "cell_type": "code",
   "execution_count": null,
   "id": "2a77d754",
   "metadata": {},
   "outputs": [],
   "source": [
    "def EncodeSingleColumn(data):\n",
    "    le = preprocessing.LabelEncoder()\n",
    "    le.fit(data)\n",
    "    return le.transform(data)"
   ]
  },
  {
   "cell_type": "code",
   "execution_count": null,
   "id": "f96a0510",
   "metadata": {},
   "outputs": [],
   "source": [
    "def EncodeColumnsCollection(data, columnsToEncrypt):\n",
    "    for column in columnsToEncrypt:\n",
    "        data[column] = EncodeSingleColumn(data[column])\n",
    "    return data"
   ]
  },
  {
   "cell_type": "code",
   "execution_count": null,
   "id": "4226be76",
   "metadata": {},
   "outputs": [],
   "source": [
    "# Select columns for encryption\n",
    "columnsToEncode = ['Priority','Urgency','Configuration item','Subcategory','Category']\n",
    "\n",
    "# Encrypt data for each of selected columns\n",
    "df_encoded = EncodeColumnsCollection(data, columnsToEncode)"
   ]
  },
  {
   "cell_type": "code",
   "execution_count": null,
   "id": "0ec42d94",
   "metadata": {},
   "outputs": [],
   "source": [
    "df_encoded.head()"
   ]
  },
  {
   "cell_type": "code",
   "execution_count": null,
   "id": "14cb1764",
   "metadata": {},
   "outputs": [],
   "source": [
    "encoded_data=df_encoded.drop(['Number','Name','cleaned_name'], axis = 1)"
   ]
  },
  {
   "cell_type": "code",
   "execution_count": null,
   "id": "eb1787bc",
   "metadata": {},
   "outputs": [],
   "source": [
    "encoded_data"
   ]
  },
  {
   "cell_type": "code",
   "execution_count": null,
   "id": "d9b1714f",
   "metadata": {},
   "outputs": [],
   "source": [
    "encoded_data['Assignment group'].unique()"
   ]
  },
  {
   "cell_type": "markdown",
   "id": "260f52f0",
   "metadata": {},
   "source": [
    "#### Text Embedding using USE technique"
   ]
  },
  {
   "cell_type": "code",
   "execution_count": null,
   "id": "37898411",
   "metadata": {},
   "outputs": [],
   "source": [
    "module_url = \"https://tfhub.dev/google/universal-sentence-encoder/4\" \n",
    "model = hub.load(module_url)\n",
    "print (\"module %s loaded\" % module_url)"
   ]
  },
  {
   "cell_type": "code",
   "execution_count": null,
   "id": "1a2bae43",
   "metadata": {},
   "outputs": [],
   "source": [
    "embedded_desc1 = model(data['cleaned_name'])"
   ]
  },
  {
   "cell_type": "code",
   "execution_count": null,
   "id": "498d9f23",
   "metadata": {},
   "outputs": [],
   "source": [
    "embedded_desc1"
   ]
  },
  {
   "cell_type": "code",
   "execution_count": null,
   "id": "a5d16e1a",
   "metadata": {},
   "outputs": [],
   "source": [
    "#converta array into dataframe\n",
    "embedded_desc1=pd.DataFrame(embedded_desc1)\n",
    "embedded_desc1.head()"
   ]
  },
  {
   "cell_type": "code",
   "execution_count": null,
   "id": "2398b837",
   "metadata": {},
   "outputs": [],
   "source": [
    "new_data = pd.concat([embedded_desc1, encoded_data], axis=1)"
   ]
  },
  {
   "cell_type": "code",
   "execution_count": null,
   "id": "5aa12c8f",
   "metadata": {},
   "outputs": [],
   "source": [
    "new_data"
   ]
  },
  {
   "cell_type": "markdown",
   "id": "ab27917c",
   "metadata": {},
   "source": [
    "Split the Dataset into Train and Test"
   ]
  },
  {
   "cell_type": "code",
   "execution_count": null,
   "id": "b5479a12",
   "metadata": {},
   "outputs": [],
   "source": [
    "y= new_data['Assignment group']"
   ]
  },
  {
   "cell_type": "code",
   "execution_count": null,
   "id": "bc207819",
   "metadata": {},
   "outputs": [],
   "source": [
    "y.value_counts()"
   ]
  },
  {
   "cell_type": "code",
   "execution_count": null,
   "id": "6d23ae2c",
   "metadata": {},
   "outputs": [],
   "source": [
    "X= new_data.drop(['Assignment group','Priority','Urgency','Configuration item','Subcategory','Category'], axis = 1)"
   ]
  },
  {
   "cell_type": "code",
   "execution_count": null,
   "id": "5096206d",
   "metadata": {},
   "outputs": [],
   "source": [
    "x_train, x_test, y_train, y_test = train_test_split(X, y, test_size=0.2, random_state = 0, stratify=y)\n",
    "print(len(x_train))\n",
    "print(len(x_test))"
   ]
  },
  {
   "cell_type": "code",
   "execution_count": null,
   "id": "74498d56",
   "metadata": {},
   "outputs": [],
   "source": [
    "y_train.value_counts()"
   ]
  },
  {
   "cell_type": "code",
   "execution_count": null,
   "id": "1b9c1685",
   "metadata": {},
   "outputs": [],
   "source": [
    "y_train_list=y_train.tolist()"
   ]
  },
  {
   "cell_type": "code",
   "execution_count": null,
   "id": "03783977",
   "metadata": {},
   "outputs": [],
   "source": [
    "y_train_list"
   ]
  },
  {
   "cell_type": "code",
   "execution_count": null,
   "id": "f1931440",
   "metadata": {},
   "outputs": [],
   "source": [
    "y_test.value_counts()"
   ]
  },
  {
   "cell_type": "code",
   "execution_count": null,
   "id": "cf389f03",
   "metadata": {},
   "outputs": [],
   "source": [
    "y_test_list=y_test.tolist()"
   ]
  },
  {
   "cell_type": "code",
   "execution_count": null,
   "id": "404a0a97",
   "metadata": {},
   "outputs": [],
   "source": [
    "y_test_list"
   ]
  },
  {
   "cell_type": "code",
   "execution_count": null,
   "id": "b0f0d4dc",
   "metadata": {},
   "outputs": [],
   "source": [
    "Y_List= pd.DataFrame({'Y_train': pd.Series(y_train_list).value_counts(), 'Y_test': pd.Series(y_test_list).value_counts()})"
   ]
  },
  {
   "cell_type": "code",
   "execution_count": null,
   "id": "40efbef5",
   "metadata": {},
   "outputs": [],
   "source": [
    "Y_List"
   ]
  },
  {
   "cell_type": "code",
   "execution_count": null,
   "id": "2fe240f6",
   "metadata": {},
   "outputs": [],
   "source": [
    "Y_List.reset_index(level=0, inplace=True)"
   ]
  },
  {
   "cell_type": "code",
   "execution_count": null,
   "id": "3c87d1da",
   "metadata": {},
   "outputs": [],
   "source": [
    "#Y_List.to_csv('Assignment_group_Class.csv',index=False)"
   ]
  },
  {
   "cell_type": "markdown",
   "id": "b569998a",
   "metadata": {},
   "source": [
    "#### Model Building"
   ]
  },
  {
   "cell_type": "code",
   "execution_count": null,
   "id": "7539ac52",
   "metadata": {},
   "outputs": [],
   "source": [
    "DT_model = DecisionTreeClassifier().fit(x_train, y_train)\n",
    "y_pred = DT_model.predict(x_test)"
   ]
  },
  {
   "cell_type": "code",
   "execution_count": null,
   "id": "197118c3",
   "metadata": {},
   "outputs": [],
   "source": [
    "# Classification report\n",
    "print('\\tCLASSIFICATIION METRICS\\n')\n",
    "print(metrics.classification_report(y_test, y_pred))"
   ]
  },
  {
   "cell_type": "code",
   "execution_count": null,
   "id": "75adefb5",
   "metadata": {},
   "outputs": [],
   "source": []
  },
  {
   "cell_type": "code",
   "execution_count": null,
   "id": "6fe091b5",
   "metadata": {},
   "outputs": [],
   "source": [
    "SVC_model= SVC().fit(x_train, y_train)\n",
    "y_pred = SVC_model.predict(x_test)"
   ]
  },
  {
   "cell_type": "code",
   "execution_count": null,
   "id": "fa2c217f",
   "metadata": {},
   "outputs": [],
   "source": [
    "# Classification report\n",
    "print('\\tCLASSIFICATIION METRICS\\n')\n",
    "print(metrics.classification_report(y_test, y_pred))"
   ]
  },
  {
   "cell_type": "code",
   "execution_count": null,
   "id": "4903c831",
   "metadata": {},
   "outputs": [],
   "source": []
  },
  {
   "cell_type": "code",
   "execution_count": null,
   "id": "08880cc6",
   "metadata": {},
   "outputs": [],
   "source": []
  },
  {
   "cell_type": "code",
   "execution_count": null,
   "id": "fa47a7a2",
   "metadata": {},
   "outputs": [],
   "source": [
    "KNN_model=KNeighborsClassifier().fit(x_train, y_train)\n",
    "y_pred1 = KNN_model.predict(x_test)"
   ]
  },
  {
   "cell_type": "code",
   "execution_count": null,
   "id": "d6556b8a",
   "metadata": {},
   "outputs": [],
   "source": [
    " #print('Training accuracy: %.2f%%' % (accuracy_score(y_train,y_pred1) * 100))"
   ]
  },
  {
   "cell_type": "code",
   "execution_count": null,
   "id": "072ce29b",
   "metadata": {},
   "outputs": [],
   "source": [
    "# Classification report\n",
    "print('\\tCLASSIFICATIION METRICS\\n')\n",
    "print(metrics.classification_report(y_test, y_pred1))"
   ]
  },
  {
   "cell_type": "code",
   "execution_count": null,
   "id": "58572c22",
   "metadata": {},
   "outputs": [],
   "source": []
  },
  {
   "cell_type": "code",
   "execution_count": null,
   "id": "d54052fc",
   "metadata": {},
   "outputs": [],
   "source": [
    "RF_model= RandomForestClassifier().fit(x_train,y_train)\n",
    "y_pred1 = RF_model.predict(x_test)"
   ]
  },
  {
   "cell_type": "code",
   "execution_count": null,
   "id": "c9d0bb71",
   "metadata": {},
   "outputs": [],
   "source": [
    "# Classification report\n",
    "print('\\tCLASSIFICATIION METRICS\\n')\n",
    "print(metrics.classification_report(y_test, y_pred1))"
   ]
  },
  {
   "cell_type": "code",
   "execution_count": null,
   "id": "ad18aec0",
   "metadata": {},
   "outputs": [],
   "source": []
  },
  {
   "cell_type": "code",
   "execution_count": null,
   "id": "7656e08c",
   "metadata": {},
   "outputs": [],
   "source": []
  },
  {
   "cell_type": "code",
   "execution_count": null,
   "id": "a84ef925",
   "metadata": {},
   "outputs": [],
   "source": [
    "le = LabelEncoder()\n",
    "y_train = le.fit_transform(y_train)\n",
    "y_test=le.fit_transform(y_test)"
   ]
  },
  {
   "cell_type": "code",
   "execution_count": null,
   "id": "05902326",
   "metadata": {},
   "outputs": [],
   "source": [
    "XGB_model= XGBClassifier().fit(x_train,y_train)\n",
    "y_pred1 = XGB_model.predict(x_test)"
   ]
  },
  {
   "cell_type": "code",
   "execution_count": null,
   "id": "0548752b",
   "metadata": {},
   "outputs": [],
   "source": [
    "#### Classification report\n",
    "print('\\tCLASSIFICATIION METRICS\\n')\n",
    "print(metrics.classification_report(y_test, y_pred1))"
   ]
  },
  {
   "cell_type": "code",
   "execution_count": null,
   "id": "4291aae0",
   "metadata": {},
   "outputs": [],
   "source": []
  },
  {
   "cell_type": "code",
   "execution_count": null,
   "id": "c5e9f9b9",
   "metadata": {},
   "outputs": [],
   "source": []
  },
  {
   "cell_type": "code",
   "execution_count": null,
   "id": "391da035",
   "metadata": {},
   "outputs": [],
   "source": []
  },
  {
   "cell_type": "markdown",
   "id": "4186cfec",
   "metadata": {},
   "source": [
    "With USE Embedding on 80% trained data \n",
    "\n",
    "Decision Tree - 67\n",
    "Random Forest - 63\n",
    "Gaussian Naive Bayes - 38 \n",
    "SVC -  52\n",
    "KNN - 78\n",
    "\n"
   ]
  },
  {
   "cell_type": "raw",
   "id": "bad9b537",
   "metadata": {},
   "source": [
    "With Infersent Embedding \n",
    "Decison Tree - 68\n",
    "KNN - 77\n",
    "RF -63 \n",
    "\n"
   ]
  },
  {
   "cell_type": "raw",
   "id": "a75f08b5",
   "metadata": {},
   "source": [
    "With USE embedding  and training on full data as train data \n",
    "\n",
    "Decision tree- 99% \n",
    "SVC -55%\n",
    "KNN -83%\n",
    "Random Forest -99% \n",
    "\n"
   ]
  },
  {
   "cell_type": "raw",
   "id": "47bce767",
   "metadata": {},
   "source": [
    "With USE embedding  and training on full data as train data and replacing with desktop services for all countries \n",
    "\n",
    "Decision tree- 99% \n",
    "SVC -56%\n",
    "KNN -85%\n",
    "Random Forest -99% "
   ]
  },
  {
   "cell_type": "raw",
   "id": "02c9bffa",
   "metadata": {},
   "source": [
    "With USE embedding  and training on 80 as train data and replacing with desktop services for all countries and syntehsized one class EBS markview with one more sample\n",
    "\n",
    "Decision tree-  70\n",
    "SVC - 54\n",
    "KNN - 80\n",
    "Random Forest - 66\n",
    "XGBoost -11 "
   ]
  },
  {
   "cell_type": "raw",
   "id": "9eeff5b6",
   "metadata": {},
   "source": [
    "With USE embedding  and training on 80 as train data and replacing with desktop services for all countries and syntehsized one class EBS markview with one more sample and X used only cleaned_Data\n",
    "\n",
    "Decision tree-  46\n",
    "SVC - 68\n",
    "KNN - 66\n",
    "Random Forest - 61\n",
    "XGBoost -"
   ]
  },
  {
   "cell_type": "code",
   "execution_count": null,
   "id": "d7ca6dd5",
   "metadata": {},
   "outputs": [],
   "source": [
    "With tfidf embedding  and training on 80 as train data and replacing with desktop services for all countries and syntehsized one class EBS markview with one more sample and X used only cleaned_Data\n",
    "\n",
    "Decision tree-  \n",
    "SVC - \n",
    "KNN - \n",
    "Random Forest - "
   ]
  }
 ],
 "metadata": {
  "kernelspec": {
   "display_name": "Python 3 (ipykernel)",
   "language": "python",
   "name": "python3"
  },
  "language_info": {
   "codemirror_mode": {
    "name": "ipython",
    "version": 3
   },
   "file_extension": ".py",
   "mimetype": "text/x-python",
   "name": "python",
   "nbconvert_exporter": "python",
   "pygments_lexer": "ipython3",
   "version": "3.10.6"
  }
 },
 "nbformat": 4,
 "nbformat_minor": 5
}
