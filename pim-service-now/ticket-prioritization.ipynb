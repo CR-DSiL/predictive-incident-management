{
 "cells": [
  {
   "cell_type": "code",
   "execution_count": null,
   "id": "0a6405e7",
   "metadata": {},
   "outputs": [],
   "source": [
    "import pandas as pd\n",
    "import numpy as np\n",
    "import warnings\n",
    "warnings.filterwarnings('ignore')\n",
    "import re\n",
    "import time\n",
    "import collections"
   ]
  },
  {
   "cell_type": "code",
   "execution_count": null,
   "id": "048d318d",
   "metadata": {},
   "outputs": [],
   "source": [
    "%%time\n",
    "data=pd.read_excel(\"IT Incidents Dashboard FY22 Q4 V1.xlsx\")\n"
   ]
  },
  {
   "cell_type": "markdown",
   "id": "25a89018",
   "metadata": {},
   "source": [
    "Considering only closed ticket to proceed further for analysis, by assuming the closed tickets are having correct values"
   ]
  },
  {
   "cell_type": "code",
   "execution_count": null,
   "id": "70659e86",
   "metadata": {},
   "outputs": [],
   "source": [
    "closed_ticket=data[data['Incident state']=='Closed']\n",
    "closed_ticket.reset_index(drop=True,inplace=True)"
   ]
  },
  {
   "cell_type": "code",
   "execution_count": null,
   "id": "ef78ce01",
   "metadata": {},
   "outputs": [],
   "source": [
    "closed_ticket= closed_ticket[['Number','Name','Opened','Assignment group', 'Priority', 'Urgency', 'Configuration item', 'Subcategory','Category','Resolved','Business resolve time']]\n"
   ]
  },
  {
   "cell_type": "code",
   "execution_count": null,
   "id": "aab0c44e",
   "metadata": {},
   "outputs": [],
   "source": [
    "closed_ticket.isnull().sum()"
   ]
  },
  {
   "cell_type": "code",
   "execution_count": null,
   "id": "3cb9f85a",
   "metadata": {},
   "outputs": [],
   "source": [
    "closed_ticket.dropna(subset=['Name'],inplace=True)\n",
    "closed_ticket.reset_index(drop=True,inplace=True)"
   ]
  },
  {
   "cell_type": "code",
   "execution_count": null,
   "id": "97745f60",
   "metadata": {},
   "outputs": [],
   "source": [
    "closed_ticket.isnull().sum()"
   ]
  },
  {
   "cell_type": "markdown",
   "id": "733a7bcb",
   "metadata": {},
   "source": [
    "## String validation for name column"
   ]
  },
  {
   "cell_type": "code",
   "execution_count": null,
   "id": "50805167",
   "metadata": {},
   "outputs": [],
   "source": [
    "def string_validation(text):\n",
    "    \n",
    "    #pattern for identifying the mail id\n",
    "    regex1 = re.compile(r'([A-Za-z0-9]+[.-_])*[A-Za-z0-9]+@[A-Za-z0-9-]+(\\.[A-Z|a-z]{2,})+|([A-Za-z0-9]+[.-_])*[A-Za-z0-9]+@[A-Za-z0-9-]+(\\.[A-Z|a-z]{2,})+ ')\n",
    "    \n",
    "    \n",
    "    #pattern for identifying the url link\n",
    "    regex2 = re.compile(r'(https?://[^\\s]+)|(www.[^\\s]+)|(http?://[^\\s]+)|(https?://[^\\s]+)+\\ |(www.[^\\s]+\\ )|(http?://[^\\s]+\\ )')\n",
    "    \n",
    "    \n",
    "    try:\n",
    "        \n",
    "        # checking the string containing onlr mail id\n",
    "        if re.fullmatch(regex1, text):\n",
    "            return True\n",
    "        \n",
    "       \n",
    "        \n",
    "        #checking the string is having any http link\n",
    "        elif re.fullmatch(regex2, text):\n",
    "            return True\n",
    "        \n",
    "    \n",
    "        else:\n",
    "            \n",
    "            if text.isdigit():\n",
    "                return True\n",
    "            \n",
    "            else:\n",
    "\n",
    "                #removing the some special character and sign\n",
    "                text=re.sub(r'\\+|\\-|\\\\|\\.|\\(|\\)|\\/','', text)\n",
    "\n",
    "                #removing the space between digits\n",
    "                text=re.sub(r'(\\d)\\s+(\\d)', r'\\1\\2', text)\n",
    "\n",
    "                #checking the string contains only numbers or not\n",
    "                if text.isdigit():\n",
    "                    return True\n",
    "                \n",
    "                else:\n",
    "                    return False\n",
    "                \n",
    "        \n",
    "    except Exception as e:\n",
    "        return e"
   ]
  },
  {
   "cell_type": "code",
   "execution_count": null,
   "id": "9ec03828",
   "metadata": {},
   "outputs": [],
   "source": [
    "%%time\n",
    "closed_ticket[\"name_string_validation\"]=closed_ticket[\"Name\"].apply(string_validation)"
   ]
  },
  {
   "cell_type": "code",
   "execution_count": null,
   "id": "d084dfb1",
   "metadata": {},
   "outputs": [],
   "source": [
    "closed_ticket.name_string_validation.value_counts()"
   ]
  },
  {
   "cell_type": "code",
   "execution_count": null,
   "id": "27d3b926",
   "metadata": {},
   "outputs": [],
   "source": [
    "closed_ticket.drop(closed_ticket[closed_ticket['name_string_validation'] == True].index,inplace=True)"
   ]
  },
  {
   "cell_type": "code",
   "execution_count": null,
   "id": "c53e18b9",
   "metadata": {},
   "outputs": [],
   "source": [
    "closed_ticket.reset_index(drop=True,inplace=True)"
   ]
  },
  {
   "cell_type": "markdown",
   "id": "df2553f7",
   "metadata": {},
   "source": [
    "## Language detection and transalation to english"
   ]
  },
  {
   "cell_type": "code",
   "execution_count": null,
   "id": "32505046",
   "metadata": {},
   "outputs": [],
   "source": [
    "from langdetect import detect\n",
    "from deep_translator import GoogleTranslator"
   ]
  },
  {
   "cell_type": "code",
   "execution_count": null,
   "id": "ef437d27",
   "metadata": {},
   "outputs": [],
   "source": [
    "def lang_detect(data):                                        \n",
    "   try:                                                          \n",
    "      return detect(data)                                      \n",
    "   except:                                                       \n",
    "      return 'Not identified'  "
   ]
  },
  {
   "cell_type": "code",
   "execution_count": null,
   "id": "39f252f1",
   "metadata": {},
   "outputs": [],
   "source": [
    "%%time\n",
    "closed_ticket['langue'] = closed_ticket['Name'].apply(lang_detect)"
   ]
  },
  {
   "cell_type": "code",
   "execution_count": null,
   "id": "351a1e60",
   "metadata": {},
   "outputs": [],
   "source": [
    "closed_ticket.langue.value_counts()"
   ]
  },
  {
   "cell_type": "code",
   "execution_count": null,
   "id": "b2a2753b",
   "metadata": {},
   "outputs": [],
   "source": [
    "closed_ticket = closed_ticket[closed_ticket['langue'] != 'Not identified']\n",
    "closed_ticket.reset_index(drop=True,inplace=True)"
   ]
  },
  {
   "cell_type": "code",
   "execution_count": null,
   "id": "d4aa7f74",
   "metadata": {},
   "outputs": [],
   "source": [
    "def lang_translate(text,lang):\n",
    "  try:\n",
    "    if lang == 'en':\n",
    "        return text\n",
    "    \n",
    "    else:\n",
    "        return  GoogleTranslator(source='auto', target='en').translate(text)\n",
    "  except:\n",
    "    return text"
   ]
  },
  {
   "cell_type": "code",
   "execution_count": null,
   "id": "ba42b75e",
   "metadata": {},
   "outputs": [],
   "source": [
    "%%time\n",
    "closed_ticket['translated_text'] = closed_ticket.apply(lambda x: lang_translate(x['Name'], x['langue']), axis=1)"
   ]
  },
  {
   "cell_type": "markdown",
   "id": "30763459",
   "metadata": {},
   "source": [
    "## Text pre-processing & Identifying the non-english character"
   ]
  },
  {
   "cell_type": "code",
   "execution_count": null,
   "id": "f7d515d3",
   "metadata": {},
   "outputs": [],
   "source": [
    "import nltk\n",
    "import string\n",
    "stopwords = nltk.corpus.stopwords.words('english')"
   ]
  },
  {
   "cell_type": "code",
   "execution_count": null,
   "id": "5f4df68a",
   "metadata": {},
   "outputs": [],
   "source": [
    "## to clean the text data\n",
    "\n",
    "def text_preprocessing(text,language):\n",
    "    \n",
    "    #removing the some special character and sign\n",
    "    text=re.sub(r'\\’|\\【|\\】|\\“|\\”|\\–|\\…|\\´|\\‐|\\’|\\—|\\•|\\‘|\\°|\\€|\\™|\\uf0e0|\\®|\\，|\\|\\！','', text) \n",
    "    \n",
    "    #removing the some special character and sign\n",
    "    text=text.translate(str.maketrans('','',string.punctuation))\n",
    "    \n",
    "    #will replace newline with space\n",
    "    text = re.sub(\"\\n\",\" \",text)\n",
    "    \n",
    "    #will convert to lower case\n",
    "    text = text.lower()\n",
    "    \n",
    "    # removing the stop words\n",
    "    text = ' '.join([word for word in text.split() if word not in (stopwords)])\n",
    "    \n",
    "    #checking for the non-english characters\n",
    "    join_text=re.sub(r'\\ |\\  ','', text)\n",
    "    join_text=join_text.strip()\n",
    "    if join_text.isalnum ():\n",
    "        return text\n",
    "    else:\n",
    "        #checking='Non english'\n",
    "        if language == 'en':\n",
    "            return text\n",
    "        else:\n",
    "            return 'Non english'"
   ]
  },
  {
   "cell_type": "code",
   "execution_count": null,
   "id": "a9b6cbef",
   "metadata": {},
   "outputs": [],
   "source": [
    "%%time\n",
    "closed_ticket['cleaned_name'] = closed_ticket.apply(lambda x: text_preprocessing(x['translated_text'],x['langue']), axis=1)"
   ]
  },
  {
   "cell_type": "code",
   "execution_count": null,
   "id": "b79e2a4e",
   "metadata": {},
   "outputs": [],
   "source": [
    "non_english_character=closed_ticket[closed_ticket['cleaned_name']=='Non english']\n",
    "non_english_character.reset_index(drop=True,inplace=True)\n",
    "non_english_character.shape"
   ]
  },
  {
   "cell_type": "code",
   "execution_count": null,
   "id": "51b8df15",
   "metadata": {},
   "outputs": [],
   "source": [
    "english_character=closed_ticket[closed_ticket['cleaned_name']!='Non english']\n",
    "english_character.reset_index(drop=True,inplace=True)\n",
    "english_character.shape"
   ]
  },
  {
   "cell_type": "code",
   "execution_count": null,
   "id": "689953cd",
   "metadata": {},
   "outputs": [],
   "source": [
    "%%time\n",
    "non_english_character['translated_text'] = non_english_character.apply(lambda x: lang_translate(x['translated_text'], x['langue']), axis=1)"
   ]
  },
  {
   "cell_type": "code",
   "execution_count": null,
   "id": "c9008b72",
   "metadata": {},
   "outputs": [],
   "source": [
    "%%time\n",
    "non_english_character['cleaned_name'] = non_english_character.apply(lambda x: text_preprocessing(x['translated_text'],x['langue']), axis=1)"
   ]
  },
  {
   "cell_type": "code",
   "execution_count": null,
   "id": "3a5b68d6",
   "metadata": {},
   "outputs": [],
   "source": [
    "print(non_english_character.shape)\n",
    "print(english_character.shape)"
   ]
  },
  {
   "cell_type": "code",
   "execution_count": null,
   "id": "7fb8b549",
   "metadata": {},
   "outputs": [],
   "source": [
    "closed_ticket=pd.concat([english_character, non_english_character])\n",
    "closed_ticket.reset_index(drop=True,inplace=True)"
   ]
  },
  {
   "cell_type": "code",
   "execution_count": null,
   "id": "1c894729",
   "metadata": {},
   "outputs": [],
   "source": [
    "def checking_len_string(text):\n",
    "    \n",
    "    string_length = len(text.split())\n",
    "    character_length = len(text)\n",
    "                        \n",
    "    if string_length <= 1 or character_length <= 1:\n",
    "        return \"Not Valid\"\n",
    "                        \n",
    "    else:\n",
    "        return \"Valid\""
   ]
  },
  {
   "cell_type": "code",
   "execution_count": null,
   "id": "041e8656",
   "metadata": {},
   "outputs": [],
   "source": [
    "%%time\n",
    "closed_ticket['string_length'] = closed_ticket['cleaned_name'].apply(checking_len_string)"
   ]
  },
  {
   "cell_type": "code",
   "execution_count": null,
   "id": "3b8bb8c3",
   "metadata": {},
   "outputs": [],
   "source": [
    "closed_ticket['string_length'].value_counts()"
   ]
  },
  {
   "cell_type": "code",
   "execution_count": null,
   "id": "b90519f4",
   "metadata": {},
   "outputs": [],
   "source": [
    "closed_ticket.drop(closed_ticket[closed_ticket['string_length'] == \"Not Valid\"].index,inplace=True)"
   ]
  },
  {
   "cell_type": "code",
   "execution_count": null,
   "id": "cefc6592",
   "metadata": {},
   "outputs": [],
   "source": [
    "closed_ticket.shape"
   ]
  },
  {
   "cell_type": "code",
   "execution_count": null,
   "id": "10ff1f3e",
   "metadata": {},
   "outputs": [],
   "source": [
    "closed_ticket.to_csv('closed_ticket.csv',index=False)"
   ]
  },
  {
   "cell_type": "markdown",
   "id": "15e7171e",
   "metadata": {},
   "source": [
    "## Priortize ticket (keyword identification based)"
   ]
  },
  {
   "cell_type": "code",
   "execution_count": null,
   "id": "56aa4bf2",
   "metadata": {},
   "outputs": [],
   "source": [
    "closed_ticket.Priority.value_counts()"
   ]
  },
  {
   "cell_type": "code",
   "execution_count": null,
   "id": "1d8933d8",
   "metadata": {},
   "outputs": [],
   "source": [
    "data=closed_ticket[['Number','translated_text','cleaned_name','Priority','Urgency']]"
   ]
  },
  {
   "cell_type": "code",
   "execution_count": null,
   "id": "ebfcdf6f",
   "metadata": {},
   "outputs": [],
   "source": [
    "data['cleaned_name']=data['cleaned_name'].astype(str)\n",
    "data['translated_text']=data['translated_text'].astype(str)"
   ]
  },
  {
   "cell_type": "code",
   "execution_count": null,
   "id": "59882d81",
   "metadata": {},
   "outputs": [],
   "source": [
    "def new_priority(df):\n",
    "\n",
    "    \n",
    "    if df['Priority'] == '2 - Medium':\n",
    "        if df['cleaned_name'].startswith(('p1', 'critical','escalating','escalate')):\n",
    "            new_priority = '1 - High'\n",
    "            return new_priority\n",
    "        else:\n",
    "            return df['Priority']\n",
    "    \n",
    "    elif df['Priority'] == '3 - Low':\n",
    "        medium_prority_keyword = re.compile(r'failure notification|host alert high|tablespace|load failed|workflow failed|urgent action')\n",
    "        if medium_prority_keyword.findall(df['cleaned_name']):\n",
    "            new_priority = '2 - Medium'\n",
    "            return new_priority\n",
    "        else:\n",
    "            return df['Priority'] \n",
    "    else:\n",
    "        return df['Priority']\n",
    "        \n",
    "    "
   ]
  },
  {
   "cell_type": "code",
   "execution_count": null,
   "id": "0dc51b4e",
   "metadata": {},
   "outputs": [],
   "source": [
    "%%time\n",
    "data['new_priority'] = data.apply(new_priority,axis=1)"
   ]
  },
  {
   "cell_type": "code",
   "execution_count": null,
   "id": "c03b19fa",
   "metadata": {},
   "outputs": [],
   "source": [
    "data.Priority.value_counts()"
   ]
  },
  {
   "cell_type": "code",
   "execution_count": null,
   "id": "d45e0b2b",
   "metadata": {},
   "outputs": [],
   "source": [
    "data.new_priority.value_counts()"
   ]
  },
  {
   "cell_type": "code",
   "execution_count": null,
   "id": "9c355d41",
   "metadata": {},
   "outputs": [],
   "source": [
    "def Validation(df):\n",
    "    \n",
    "    if df['Priority'] == df['new_priority']:\n",
    "        return \"Same\"\n",
    "    else:\n",
    "        return \"Not same\""
   ]
  },
  {
   "cell_type": "code",
   "execution_count": null,
   "id": "824ff82b",
   "metadata": {},
   "outputs": [],
   "source": [
    "%%time\n",
    "data['Validation'] = data.apply(Validation,axis=1)"
   ]
  },
  {
   "cell_type": "code",
   "execution_count": null,
   "id": "684e2ab0",
   "metadata": {},
   "outputs": [],
   "source": [
    "data['Validation'].value_counts()"
   ]
  },
  {
   "cell_type": "markdown",
   "id": "fe93c53a",
   "metadata": {},
   "source": [
    "## Keyword extraction"
   ]
  },
  {
   "cell_type": "code",
   "execution_count": null,
   "id": "a4fea09a",
   "metadata": {},
   "outputs": [],
   "source": [
    "from rake_nltk import Rake\n",
    "rake_nltk_var = Rake()"
   ]
  },
  {
   "cell_type": "code",
   "execution_count": null,
   "id": "4d7f49c0",
   "metadata": {},
   "outputs": [],
   "source": [
    "def keyword_extraction(text):\n",
    "    \n",
    "    try:\n",
    "        #extracting the keyword from the document\n",
    "        rake_nltk_var.extract_keywords_from_text(text)\n",
    "        keyword_extracted = rake_nltk_var.get_ranked_phrases()\n",
    "        if len(keyword_extracted) !=0:\n",
    "            keyword_extracted=str(keyword_extracted).replace('[','').replace(']','')\n",
    "            return keyword_extracted\n",
    "        else:\n",
    "            return 'None'\n",
    "        \n",
    "    \n",
    "    except Exception as e:\n",
    "        return e"
   ]
  },
  {
   "cell_type": "code",
   "execution_count": null,
   "id": "8b7f5701",
   "metadata": {},
   "outputs": [],
   "source": [
    "%%time\n",
    "data['keyword'] = data['translated_text'].apply(keyword_extraction)"
   ]
  },
  {
   "cell_type": "code",
   "execution_count": null,
   "id": "b1111867",
   "metadata": {},
   "outputs": [],
   "source": [
    "data.drop(data[data['keyword'] == 'None'].index,inplace=True)"
   ]
  },
  {
   "cell_type": "code",
   "execution_count": null,
   "id": "d7193bc5",
   "metadata": {},
   "outputs": [],
   "source": [
    "from sklearn.feature_extraction.text import CountVectorizer"
   ]
  },
  {
   "cell_type": "code",
   "execution_count": null,
   "id": "e1daef6f",
   "metadata": {},
   "outputs": [],
   "source": [
    "# Create a Vectorizer Object\n",
    "vectorizer = CountVectorizer()\n",
    " \n",
    "vectorizer.fit(data['keyword'])\n",
    "\n",
    "keyword_count = vectorizer.vocabulary_\n",
    "  "
   ]
  },
  {
   "cell_type": "code",
   "execution_count": null,
   "id": "3b5cfacd",
   "metadata": {},
   "outputs": [],
   "source": [
    "keyword_df=pd.DataFrame.from_dict(keyword_count, orient='index',).reset_index()\n",
    "keyword_df.columns = ['word', 'count']"
   ]
  },
  {
   "cell_type": "code",
   "execution_count": null,
   "id": "157cf93b",
   "metadata": {},
   "outputs": [],
   "source": [
    "keyword_df"
   ]
  },
  {
   "cell_type": "code",
   "execution_count": null,
   "id": "db0ab5be",
   "metadata": {},
   "outputs": [],
   "source": [
    "def is_numeric(text):\n",
    "    \n",
    "    if text.isnumeric ():\n",
    "        return 'yes'\n",
    "    else:\n",
    "        return 'no'"
   ]
  },
  {
   "cell_type": "code",
   "execution_count": null,
   "id": "10541250",
   "metadata": {},
   "outputs": [],
   "source": [
    "keyword_df['is_numeric']=keyword_df['word'].apply(is_numeric)\n",
    "keyword_df['is_numeric'].value_counts()"
   ]
  },
  {
   "cell_type": "code",
   "execution_count": null,
   "id": "b1235d54",
   "metadata": {},
   "outputs": [],
   "source": [
    "keyword_df.drop(keyword_df[keyword_df['is_numeric'] == 'yes'].index,inplace=True)"
   ]
  },
  {
   "cell_type": "code",
   "execution_count": null,
   "id": "b7db295c",
   "metadata": {},
   "outputs": [],
   "source": [
    "keyword_df.drop(columns=['is_numeric'],inplace=True)\n",
    "keyword_df.reset_index(drop=True,inplace=True)"
   ]
  },
  {
   "cell_type": "code",
   "execution_count": null,
   "id": "eab93bdd",
   "metadata": {},
   "outputs": [],
   "source": [
    "keyword_df.to_csv('keywords.csv',index=False)"
   ]
  },
  {
   "cell_type": "code",
   "execution_count": null,
   "id": "1b2b2322",
   "metadata": {},
   "outputs": [],
   "source": [
    "keyword_df"
   ]
  },
  {
   "cell_type": "code",
   "execution_count": null,
   "id": "27d9ab37",
   "metadata": {},
   "outputs": [],
   "source": [
    "word_count = ' '.join(i for i in data['cleaned_name'])\n",
    "filtered_words = word_count.split()\n",
    "counted_words = collections.Counter(filtered_words)"
   ]
  },
  {
   "cell_type": "code",
   "execution_count": null,
   "id": "6e95a6b3",
   "metadata": {},
   "outputs": [],
   "source": [
    "words=dict(counted_words)\n",
    "type(words)"
   ]
  },
  {
   "cell_type": "code",
   "execution_count": null,
   "id": "a2ee8509",
   "metadata": {},
   "outputs": [],
   "source": [
    "keyword_count=pd.DataFrame.from_dict(words, orient='index',).reset_index()\n",
    "keyword_count.columns = ['word', 'count']"
   ]
  },
  {
   "cell_type": "code",
   "execution_count": null,
   "id": "c4abb200",
   "metadata": {},
   "outputs": [],
   "source": [
    "keyword_count['is_numeric']=keyword_count['word'].apply(is_numeric)\n",
    "keyword_count['is_numeric'].value_counts()"
   ]
  },
  {
   "cell_type": "code",
   "execution_count": null,
   "id": "c91215a8",
   "metadata": {},
   "outputs": [],
   "source": [
    "keyword_count.drop(keyword_count[keyword_count['is_numeric'] == 'yes'].index,inplace=True)"
   ]
  },
  {
   "cell_type": "code",
   "execution_count": null,
   "id": "c04d0916",
   "metadata": {},
   "outputs": [],
   "source": [
    "keyword_count.drop(columns=['is_numeric'],inplace=True)\n",
    "keyword_count.reset_index(drop=True,inplace=True)"
   ]
  },
  {
   "cell_type": "code",
   "execution_count": null,
   "id": "f866dec6",
   "metadata": {},
   "outputs": [],
   "source": [
    "keyword_count.to_csv('keywordsList.csv',index=False)"
   ]
  },
  {
   "cell_type": "code",
   "execution_count": null,
   "id": "e9e1d256",
   "metadata": {},
   "outputs": [],
   "source": [
    "keyword_count"
   ]
  },
  {
   "cell_type": "code",
   "execution_count": null,
   "id": "73fb688d",
   "metadata": {},
   "outputs": [],
   "source": [
    "data_new=data.copy()"
   ]
  },
  {
   "cell_type": "code",
   "execution_count": null,
   "id": "10b6542e",
   "metadata": {},
   "outputs": [],
   "source": [
    "data_low=data_new[data_new['new_priority']=='3 - Low']"
   ]
  },
  {
   "cell_type": "code",
   "execution_count": null,
   "id": "be1377ab",
   "metadata": {},
   "outputs": [],
   "source": [
    "word_count = ' '.join(i for i in data_low['cleaned_name'])\n",
    "filtered_words = word_count.split()\n",
    "counted_words = collections.Counter(filtered_words)\n",
    "words=dict(counted_words)"
   ]
  },
  {
   "cell_type": "code",
   "execution_count": null,
   "id": "3f37695a",
   "metadata": {},
   "outputs": [],
   "source": [
    "keyword_count=pd.DataFrame.from_dict(words, orient='index',).reset_index()\n",
    "keyword_count.columns = ['word', 'count']\n",
    "keyword_count['is_numeric']=keyword_count['word'].apply(is_numeric)\n",
    "keyword_count['is_numeric'].value_counts()"
   ]
  },
  {
   "cell_type": "code",
   "execution_count": null,
   "id": "9d923567",
   "metadata": {},
   "outputs": [],
   "source": [
    "keyword_count.drop(keyword_count[keyword_count['is_numeric'] == 'yes'].index,inplace=True)\n",
    "keyword_count.drop(columns=['is_numeric'],inplace=True)\n",
    "keyword_count.reset_index(drop=True,inplace=True)"
   ]
  },
  {
   "cell_type": "code",
   "execution_count": null,
   "id": "30dfd8a1",
   "metadata": {},
   "outputs": [],
   "source": [
    "keyword_count.to_csv('low_priority_keyword.csv',index=False)"
   ]
  },
  {
   "cell_type": "code",
   "execution_count": null,
   "id": "9d015f3f",
   "metadata": {},
   "outputs": [],
   "source": [
    "keyword_count.shape"
   ]
  },
  {
   "cell_type": "code",
   "execution_count": null,
   "id": "f13cf43a",
   "metadata": {},
   "outputs": [],
   "source": [
    "data_medium=data_new[data_new['new_priority']=='2 - Medium']"
   ]
  },
  {
   "cell_type": "code",
   "execution_count": null,
   "id": "37a3e285",
   "metadata": {},
   "outputs": [],
   "source": [
    "word_count = ' '.join(i for i in data_medium['cleaned_name'])\n",
    "filtered_words = word_count.split()\n",
    "counted_words = collections.Counter(filtered_words)\n",
    "words=dict(counted_words)"
   ]
  },
  {
   "cell_type": "code",
   "execution_count": null,
   "id": "65610c76",
   "metadata": {},
   "outputs": [],
   "source": [
    "keyword_count=pd.DataFrame.from_dict(words, orient='index',).reset_index()\n",
    "keyword_count.columns = ['word', 'count']\n",
    "keyword_count['is_numeric']=keyword_count['word'].apply(is_numeric)\n",
    "keyword_count['is_numeric'].value_counts()"
   ]
  },
  {
   "cell_type": "code",
   "execution_count": null,
   "id": "3c8f0850",
   "metadata": {},
   "outputs": [],
   "source": [
    "keyword_count.drop(keyword_count[keyword_count['is_numeric'] == 'yes'].index,inplace=True)\n",
    "keyword_count.drop(columns=['is_numeric'],inplace=True)\n",
    "keyword_count.reset_index(drop=True,inplace=True)"
   ]
  },
  {
   "cell_type": "code",
   "execution_count": null,
   "id": "55c0a7fb",
   "metadata": {},
   "outputs": [],
   "source": [
    "keyword_count.to_csv('medium_priority_keyword.csv',index=False)"
   ]
  },
  {
   "cell_type": "code",
   "execution_count": null,
   "id": "aa59432f",
   "metadata": {},
   "outputs": [],
   "source": [
    "keyword_count"
   ]
  },
  {
   "cell_type": "code",
   "execution_count": null,
   "id": "9db4ef68",
   "metadata": {},
   "outputs": [],
   "source": [
    "data_high=data_new[data_new['new_priority']=='1 - High']"
   ]
  },
  {
   "cell_type": "code",
   "execution_count": null,
   "id": "5a77ecb4",
   "metadata": {},
   "outputs": [],
   "source": [
    "word_count = ' '.join(i for i in data_high['cleaned_name'])\n",
    "filtered_words = word_count.split()\n",
    "counted_words = collections.Counter(filtered_words)\n",
    "words=dict(counted_words)"
   ]
  },
  {
   "cell_type": "code",
   "execution_count": null,
   "id": "3367d895",
   "metadata": {},
   "outputs": [],
   "source": [
    "keyword_count=pd.DataFrame.from_dict(words, orient='index',).reset_index()\n",
    "keyword_count.columns = ['word', 'count']\n",
    "keyword_count['is_numeric']=keyword_count['word'].apply(is_numeric)\n",
    "keyword_count['is_numeric'].value_counts()"
   ]
  },
  {
   "cell_type": "code",
   "execution_count": null,
   "id": "b8eef916",
   "metadata": {},
   "outputs": [],
   "source": [
    "keyword_count.drop(keyword_count[keyword_count['is_numeric'] == 'yes'].index,inplace=True)\n",
    "keyword_count.drop(columns=['is_numeric'],inplace=True)\n",
    "keyword_count.reset_index(drop=True,inplace=True)"
   ]
  },
  {
   "cell_type": "code",
   "execution_count": null,
   "id": "bb72a3ad",
   "metadata": {},
   "outputs": [],
   "source": [
    "keyword_count.to_csv('high_priority_keyword.csv',index=False)"
   ]
  },
  {
   "cell_type": "code",
   "execution_count": null,
   "id": "bce67140",
   "metadata": {},
   "outputs": [],
   "source": [
    "keyword_count"
   ]
  },
  {
   "cell_type": "code",
   "execution_count": null,
   "id": "a2129877",
   "metadata": {},
   "outputs": [],
   "source": [
    "data_new[data_new['new_priority']=='1 - High']"
   ]
  },
  {
   "cell_type": "code",
   "execution_count": null,
   "id": "ee3f7f43",
   "metadata": {},
   "outputs": [],
   "source": []
  }
 ],
 "metadata": {
  "kernelspec": {
   "display_name": "Python 3 (ipykernel)",
   "language": "python",
   "name": "python3"
  },
  "language_info": {
   "codemirror_mode": {
    "name": "ipython",
    "version": 3
   },
   "file_extension": ".py",
   "mimetype": "text/x-python",
   "name": "python",
   "nbconvert_exporter": "python",
   "pygments_lexer": "ipython3",
   "version": "3.10.6"
  }
 },
 "nbformat": 4,
 "nbformat_minor": 5
}
