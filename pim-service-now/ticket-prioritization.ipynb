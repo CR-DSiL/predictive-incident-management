{
 "cells": [
  {
   "cell_type": "code",
   "execution_count": 1,
   "id": "d1f3fccd",
   "metadata": {},
   "outputs": [],
   "source": [
    "import pandas as pd\n",
    "import numpy as np\n",
    "\n",
    "import re\n",
    "import time\n",
    "import collections\n",
    "import yaml\n",
    "import os\n",
    "\n",
    "\n",
    "import warnings\n",
    "warnings.filterwarnings('ignore')"
   ]
  },
  {
   "cell_type": "markdown",
   "id": "f530546f",
   "metadata": {},
   "source": [
    "## Data reading "
   ]
  },
  {
   "cell_type": "code",
   "execution_count": 2,
   "id": "8365de5d",
   "metadata": {},
   "outputs": [
    {
     "name": "stdout",
     "output_type": "stream",
     "text": [
      "CPU times: total: 15.7 s\n",
      "Wall time: 15.7 s\n"
     ]
    }
   ],
   "source": [
    "%%time\n",
    "data=pd.read_excel(\"IT Incidents Dashboard FY22 Q4 V1.xlsx\")"
   ]
  },
  {
   "cell_type": "code",
   "execution_count": 3,
   "id": "f348f468",
   "metadata": {},
   "outputs": [],
   "source": [
    "closed_ticket=data[data['Incident state']=='Closed']\n",
    "closed_ticket.reset_index(drop=True,inplace=True)"
   ]
  },
  {
   "cell_type": "code",
   "execution_count": 4,
   "id": "e2767702",
   "metadata": {},
   "outputs": [],
   "source": [
    "closed_ticket= closed_ticket[['Number','Name','Opened','Assignment group', 'Priority', 'Urgency', 'Configuration item', 'Subcategory','Category','Resolved','Business resolve time']]"
   ]
  },
  {
   "cell_type": "code",
   "execution_count": 5,
   "id": "6b250dcb",
   "metadata": {},
   "outputs": [],
   "source": [
    "closed_ticket.dropna(subset=['Name'],inplace=True)\n",
    "closed_ticket.reset_index(drop=True,inplace=True)"
   ]
  },
  {
   "cell_type": "code",
   "execution_count": 6,
   "id": "43a32dec",
   "metadata": {},
   "outputs": [],
   "source": [
    "short_description=closed_ticket['Name'][2]\n",
    "priority=closed_ticket['Priority'][2]"
   ]
  },
  {
   "cell_type": "markdown",
   "id": "04df79cc",
   "metadata": {},
   "source": [
    "## Joining path"
   ]
  },
  {
   "cell_type": "code",
   "execution_count": 7,
   "id": "20f95e3c",
   "metadata": {},
   "outputs": [],
   "source": [
    "# Load config file\n",
    "with open('config/config.yaml') as file:\n",
    "    config= yaml.safe_load(file)"
   ]
  },
  {
   "cell_type": "code",
   "execution_count": 8,
   "id": "c93c1523",
   "metadata": {},
   "outputs": [],
   "source": [
    "#Get current working dir\n",
    "cwd_path=os.getcwd()\n",
    "\n",
    "# receiver email\n",
    "keyword_startwith = str(config['medium_keyword_startswith'])\n",
    "medium_keyword = str(config['medium_keyword'])\n",
    "low_keyword=str(config['low_keyword'])"
   ]
  },
  {
   "cell_type": "markdown",
   "id": "6d1b8bb9",
   "metadata": {},
   "source": [
    "## String Validation"
   ]
  },
  {
   "cell_type": "code",
   "execution_count": 9,
   "id": "c6810e12",
   "metadata": {},
   "outputs": [],
   "source": [
    "'''\n",
    "    The function validates the string to see if it only contains \n",
    "    an email address, a website URL, or a phone number. It will \n",
    "    return the boolean value after validating.\n",
    "    \n",
    "'''\n",
    "\n",
    "\n",
    "\n",
    "def short_description_validation(text):\n",
    "    \n",
    "    #pattern for identifying the mail id\n",
    "    regex1 = re.compile(r'([A-Za-z0-9]+[.-_])*[A-Za-z0-9]+@[A-Za-z0-9-]+(\\.[A-Z|a-z]{2,})+|([A-Za-z0-9]+[.-_])*[A-Za-z0-9]+@[A-Za-z0-9-]+(\\.[A-Z|a-z]{2,})+ ')\n",
    "    \n",
    "    \n",
    "    #pattern for identifying the url link\n",
    "    regex2 = re.compile(r'(https?://[^\\s]+)|(www.[^\\s]+)|(http?://[^\\s]+)|(https?://[^\\s]+)+\\ |(www.[^\\s]+\\ )|(http?://[^\\s]+\\ )')\n",
    "    \n",
    "    \n",
    "    try:\n",
    "        \n",
    "        # checking the string containing onlr mail id\n",
    "        if re.fullmatch(regex1, text):\n",
    "            message = \"Insufficient data exist for the ML engine to continue\"\n",
    "            is_valid='False'\n",
    "            return is_valid,message\n",
    "        \n",
    "       \n",
    "        \n",
    "        #checking the string is having any http or website link\n",
    "        elif re.fullmatch(regex2, text):\n",
    "            message = 'Insufficient data exist for the ML engine to continue'\n",
    "            is_valid='False'\n",
    "            return is_valid,message\n",
    "        \n",
    "    \n",
    "        else:\n",
    "            \n",
    "            #checking the string is having any numbers or not\n",
    "            if text.isdigit():\n",
    "                message ='Insufficient data exist for the ML engine to continue'\n",
    "                is_valid='False'\n",
    "                return is_valid,message\n",
    "               \n",
    "            \n",
    "            else:\n",
    "\n",
    "                #removing the some special character and sign\n",
    "                text=re.sub(r'\\+|\\-|\\\\|\\.|\\(|\\)|\\/','', text)\n",
    "\n",
    "                #removing the space between digits\n",
    "                text=re.sub(r'(\\d)\\s+(\\d)', r'\\1\\2', text)\n",
    "\n",
    "                #checking the string contains only numbers or not\n",
    "                if text.isdigit():\n",
    "                    message = 'Description containing only'\n",
    "                    is_valid='False'\n",
    "                    return is_valid,message\n",
    "                \n",
    "                else:\n",
    "                    is_valid='True'\n",
    "                    return is_valid\n",
    "                \n",
    "        \n",
    "    except Exception as e:\n",
    "        return e"
   ]
  },
  {
   "cell_type": "markdown",
   "id": "ade4ecea",
   "metadata": {},
   "source": [
    "## Language Detection & translation"
   ]
  },
  {
   "cell_type": "code",
   "execution_count": 10,
   "id": "d5fdd09b",
   "metadata": {},
   "outputs": [],
   "source": [
    "from langdetect import detect\n",
    "from deep_translator import GoogleTranslator"
   ]
  },
  {
   "cell_type": "code",
   "execution_count": 11,
   "id": "cfbc96b8",
   "metadata": {},
   "outputs": [],
   "source": [
    "'''\n",
    "    It analyses the string and determines the language. \n",
    "    If the language is not English, it will be translated \n",
    "    to English. And the translated English string is returned.\n",
    "    \n",
    "'''\n",
    "\n",
    "\n",
    "\n",
    "def lang_detect(text):\n",
    "    \n",
    "    try:\n",
    "        detected_language=detect(text)\n",
    "        if detected_language == 'en':\n",
    "            is_language_detected = 'yes'\n",
    "            return text,is_language_detected,detected_language\n",
    "\n",
    "        elif detected_language != 'en':\n",
    "            text = GoogleTranslator(source='auto', target='en').translate(text)\n",
    "            try:\n",
    "                detected_language=detect(text)\n",
    "                is_language_detected = 'yes'\n",
    "                return text,is_language_detected,detected_language\n",
    "            \n",
    "            except:\n",
    "                message = 'Features does not exist'\n",
    "                is_language_detected = 'no'\n",
    "                return text,is_language_detected,message\n",
    "\n",
    "    except:\n",
    "        message = 'Features does not exist'\n",
    "        is_language_detected = 'no'\n",
    "        return text,is_language_detected,message"
   ]
  },
  {
   "cell_type": "markdown",
   "id": "616e4c0a",
   "metadata": {},
   "source": [
    "## Text pre-processing & Identifying the non-english character"
   ]
  },
  {
   "cell_type": "code",
   "execution_count": 12,
   "id": "3869a86f",
   "metadata": {},
   "outputs": [],
   "source": [
    "import nltk\n",
    "import string\n",
    "stopwords = nltk.corpus.stopwords.words('english')"
   ]
  },
  {
   "cell_type": "code",
   "execution_count": 13,
   "id": "72f2f4c1",
   "metadata": {},
   "outputs": [],
   "source": [
    "'''\n",
    "    Using regex and the pythion function, this function \n",
    "    cleaned up the chunk string. In addition, identify \n",
    "    non-English characters by returning the boolean value \n",
    "    for the is clean variable and cleaned text.\n",
    "    \n",
    "'''\n",
    "\n",
    "def text_preprocessing(text,language):\n",
    "    \n",
    "    try:\n",
    "    \n",
    "        #removing the some special character and sign\n",
    "        text=re.sub(r'\\’|\\【|\\】|\\“|\\”|\\–|\\…|\\´|\\‐|\\’|\\—|\\•|\\‘|\\°|\\€|\\™|\\uf0e0|\\®|\\，|\\|\\！','', text) \n",
    "\n",
    "        #removing the some special character and sign\n",
    "        text=text.translate(str.maketrans('','',string.punctuation))\n",
    "\n",
    "        #will replace newline with space\n",
    "        text = re.sub(\"\\n\",\" \",text)\n",
    "\n",
    "        #will convert to lower case\n",
    "        text = text.lower()\n",
    "\n",
    "        # removing the stop words\n",
    "        text = ' '.join([word for word in text.split() if word not in (stopwords)])\n",
    "\n",
    "        #checking for the non-english characters\n",
    "        join_text=re.sub(r'\\ |\\  ','', text)\n",
    "        join_text=join_text.strip()\n",
    "        \n",
    "        #validating the string is containing only alphanumeric or not \n",
    "        if join_text.isalnum ():\n",
    "            is_clean = 'yes'\n",
    "            \n",
    "            return text,is_clean\n",
    "        \n",
    "        else:\n",
    "            #checking='Non english'\n",
    "            if language == 'en':\n",
    "                is_clean = 'yes'\n",
    "                return text\n",
    "            \n",
    "            else:\n",
    "                is_clean = 'no'\n",
    "                message = 'Non-English characters were found in the text, preventing the ML engine from proceeding'\n",
    "                return is_clean,message\n",
    "            \n",
    "    except Exception as e:\n",
    "        return e"
   ]
  },
  {
   "cell_type": "markdown",
   "id": "79ce2985",
   "metadata": {},
   "source": [
    "## String length validation"
   ]
  },
  {
   "cell_type": "code",
   "execution_count": 14,
   "id": "52a06c3f",
   "metadata": {},
   "outputs": [],
   "source": [
    "'''\n",
    "    This function checks the length of the string to determine \n",
    "    whether it contains one word or one character and then returns \n",
    "    a boolean result.\n",
    "    \n",
    "'''\n",
    "\n",
    "\n",
    "\n",
    "def string_length_validation(text):\n",
    "    \n",
    "    #calculating the number of word present in string\n",
    "    string_length = len(text.split())\n",
    "    \n",
    "    #calculating the number of characters\n",
    "    character_length = len(text)\n",
    "                        \n",
    "    if string_length <= 1 or character_length <= 1:\n",
    "        is_valid = 'False'\n",
    "        message = 'Text is insufficiently character-rich for the ML engine to continue'\n",
    "        return is_valid,message\n",
    "                        \n",
    "    else:\n",
    "        is_valid = 'True'\n",
    "        return text,is_valid"
   ]
  },
  {
   "cell_type": "markdown",
   "id": "e5e53e64",
   "metadata": {},
   "source": [
    "## Ticket prioritization"
   ]
  },
  {
   "cell_type": "code",
   "execution_count": 15,
   "id": "e9e47aab",
   "metadata": {},
   "outputs": [],
   "source": [
    "'''\n",
    "    Analyze the text and determine whether the keyword matches the\n",
    "    priority keyword list or not.If it matches, it will prioritise \n",
    "    \n",
    "    the ticket one step ahead.\n",
    "\n",
    "'''\n",
    "\n",
    "\n",
    "def ticket_prioritization(text,Priority):\n",
    "    \n",
    "    try:\n",
    "\n",
    "        if Priority == config['Medium']:\n",
    "            medium_prority_keyword = re.compile(medium_keyword)\n",
    "            if medium_prority_keyword.findall(text):\n",
    "                new_priority = config['High']\n",
    "                message = 'Ticket is priortized from medium to high'\n",
    "                priortize = 'yes'\n",
    "                return message,priortize,new_priority\n",
    "            \n",
    "            elif text.startswith(keyword_startwith):\n",
    "                new_priority = config['High']\n",
    "                message = 'Ticket is priortized from medium to high'\n",
    "                priortize = 'yes'\n",
    "                return message,priortize,new_priority\n",
    "            \n",
    "            else:\n",
    "                priortize = 'no'\n",
    "                return text,priortize,Priority\n",
    "\n",
    "        elif Priority == config['Low']:\n",
    "            low_prority_keyword = re.compile(low_keyword)\n",
    "            if low_prority_keyword.findall(text):\n",
    "                new_priority = config['Medium']\n",
    "                message = 'Ticket is priortized from low to medium'\n",
    "                priortize = 'yes'\n",
    "                return message,priortize,new_priority\n",
    "            \n",
    "            else:\n",
    "                priortize = 'no'\n",
    "                return text,priortize,Priority\n",
    "            \n",
    "        else:\n",
    "            priortize = 'no'\n",
    "            return text,priortize,Priority\n",
    "        \n",
    "    except Exception as e:\n",
    "        return e"
   ]
  },
  {
   "cell_type": "markdown",
   "id": "218d60f3",
   "metadata": {},
   "source": [
    "### Function Integration"
   ]
  },
  {
   "cell_type": "code",
   "execution_count": 16,
   "id": "ac70c06e",
   "metadata": {},
   "outputs": [],
   "source": [
    "def updating_ticket_with_comment(message):\n",
    "    pass\n",
    "    "
   ]
  },
  {
   "cell_type": "code",
   "execution_count": 17,
   "id": "3562ad73",
   "metadata": {},
   "outputs": [],
   "source": [
    "def droping_ticket_with_comment(text):\n",
    "    return text"
   ]
  },
  {
   "cell_type": "code",
   "execution_count": 18,
   "id": "56fa8486",
   "metadata": {},
   "outputs": [],
   "source": [
    "def cleaned_short_description_with_priority(text,priority):\n",
    "    \n",
    "    # Validating text\n",
    "    is_valid = short_description_validation(text)\n",
    "    \n",
    "    \n",
    "   \n",
    "    if is_valid == 'True':\n",
    "        \n",
    "        #language translation\n",
    "        text,is_language_detected,language_or_message = lang_detect(text)\n",
    "        \n",
    "        \n",
    "        if is_language_detected == 'yes':\n",
    "            \n",
    "            #cleaning the text and identifying the non-english characters\n",
    "            text,is_clean = text_preprocessing(text,language_or_message)\n",
    "            \n",
    "            if is_clean == 'yes':\n",
    "                \n",
    "                #validating the string length\n",
    "                text,is_valid = string_length_validation(text)\n",
    "                \n",
    "                if is_valid == 'True':\n",
    "                    \n",
    "                    \n",
    "                    #ticket prioritization\n",
    "                    message,priortize,priority = ticket_prioritization(text,priority)\n",
    "                    \n",
    "                    if priortize == 'yes':\n",
    "                        updating_ticket_with_comment(message)\n",
    "                        return text,priority\n",
    "                    \n",
    "                    else:\n",
    "                        \n",
    "                        return text,priority\n",
    "                    \n",
    "                    \n",
    "                else:\n",
    "                    # dropping the ticket with particular comment\n",
    "                    text=droping_ticket_with_comment(text)\n",
    "                    return text\n",
    "                    \n",
    "                    \n",
    "            else:\n",
    "                # dropping the ticket with particular comment\n",
    "                text = droping_ticket_with_comment(language_message)\n",
    "                return text\n",
    "                \n",
    "                \n",
    "        else:\n",
    "            # dropping the ticket with particular comment\n",
    "            text = droping_ticket_with_comment(is_valid[1])\n",
    "            return text\n",
    "            \n",
    "            \n",
    "    else:\n",
    "        # dropping the ticket with particular comment\n",
    "        text = droping_ticket_with_comment(is_valid[1])\n",
    "        return text\n",
    "                        \n",
    "                        "
   ]
  },
  {
   "cell_type": "code",
   "execution_count": null,
   "id": "55db9e99",
   "metadata": {},
   "outputs": [],
   "source": [
    "cleaned_short_description_with_priority(short_description,priority)"
   ]
  },
  {
   "cell_type": "code",
   "execution_count": null,
   "id": "39c7d41e",
   "metadata": {},
   "outputs": [],
   "source": []
  }
 ],
 "metadata": {
  "kernelspec": {
   "display_name": "Python 3 (ipykernel)",
   "language": "python",
   "name": "python3"
  },
  "language_info": {
   "codemirror_mode": {
    "name": "ipython",
    "version": 3
   },
   "file_extension": ".py",
   "mimetype": "text/x-python",
   "name": "python",
   "nbconvert_exporter": "python",
   "pygments_lexer": "ipython3",
   "version": "3.10.6"
  }
 },
 "nbformat": 4,
 "nbformat_minor": 5
}
