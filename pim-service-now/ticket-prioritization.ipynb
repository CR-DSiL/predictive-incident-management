{
 "cells": [
  {
   "cell_type": "code",
   "execution_count": null,
   "id": "0a6405e7",
   "metadata": {},
   "outputs": [],
   "source": [
    "import pandas as pd\n",
    "import numpy as np\n",
    "import warnings\n",
    "warnings.filterwarnings('ignore')\n",
    "import re\n",
    "import time\n",
    "import collections"
   ]
  },
  {
   "cell_type": "code",
   "execution_count": null,
   "id": "048d318d",
   "metadata": {},
   "outputs": [],
   "source": [
    "%%time\n",
    "data=pd.read_excel(\"IT Incidents Dashboard FY22 Q4 V1.xlsx\")\n"
   ]
  },
  {
   "cell_type": "markdown",
   "id": "25a89018",
   "metadata": {},
   "source": [
    "Considering only closed ticket to proceed further for analysis, by assuming the closed tickets are having correct values"
   ]
  },
  {
   "cell_type": "code",
   "execution_count": null,
   "id": "70659e86",
   "metadata": {},
   "outputs": [],
   "source": [
    "closed_ticket=data[data['Incident state']=='Closed']\n",
    "closed_ticket.reset_index(drop=True,inplace=True)"
   ]
  },
  {
   "cell_type": "code",
   "execution_count": null,
   "id": "ef78ce01",
   "metadata": {},
   "outputs": [],
   "source": [
    "closed_ticket= closed_ticket[['Number','Name','Opened','Assignment group', 'Priority', 'Urgency', 'Configuration item', 'Subcategory','Category','Resolved','Business resolve time']]"
   ]
  },
  {
   "cell_type": "code",
   "execution_count": null,
   "id": "3cb9f85a",
   "metadata": {},
   "outputs": [],
   "source": [
    "closed_ticket.dropna(subset=['Name'],inplace=True)\n",
    "closed_ticket.reset_index(drop=True,inplace=True)"
   ]
  },
  {
   "cell_type": "markdown",
   "id": "733a7bcb",
   "metadata": {},
   "source": [
    "## String validation for name column"
   ]
  },
  {
   "cell_type": "code",
   "execution_count": null,
   "id": "50805167",
   "metadata": {},
   "outputs": [],
   "source": [
    "def string_is_invalid(text):\n",
    "    \n",
    "    #pattern for identifying the mail id\n",
    "    regex1 = re.compile(r'([A-Za-z0-9]+[.-_])*[A-Za-z0-9]+@[A-Za-z0-9-]+(\\.[A-Z|a-z]{2,})+|([A-Za-z0-9]+[.-_])*[A-Za-z0-9]+@[A-Za-z0-9-]+(\\.[A-Z|a-z]{2,})+ ')\n",
    "    \n",
    "    \n",
    "    #pattern for identifying the url link\n",
    "    regex2 = re.compile(r'(https?://[^\\s]+)|(www.[^\\s]+)|(http?://[^\\s]+)|(https?://[^\\s]+)+\\ |(www.[^\\s]+\\ )|(http?://[^\\s]+\\ )')\n",
    "    \n",
    "    \n",
    "    try:\n",
    "        \n",
    "        # checking the string containing onlr mail id\n",
    "        if re.fullmatch(regex1, text):\n",
    "            return 'Insufficient data exist for the ML engine to continue'\n",
    "        \n",
    "       \n",
    "        \n",
    "        #checking the string is having any http or website link\n",
    "        elif re.fullmatch(regex2, text):\n",
    "             return 'Insufficient data exist for the ML engine to continue'\n",
    "        \n",
    "    \n",
    "        else:\n",
    "            \n",
    "            if text.isdigit():\n",
    "                 return 'Insufficient data exist for the ML engine to continue'\n",
    "            \n",
    "            else:\n",
    "\n",
    "                #removing the some special character and sign\n",
    "                text=re.sub(r'\\+|\\-|\\\\|\\.|\\(|\\)|\\/','', text)\n",
    "\n",
    "                #removing the space between digits\n",
    "                text=re.sub(r'(\\d)\\s+(\\d)', r'\\1\\2', text)\n",
    "\n",
    "                #checking the string contains only numbers or not\n",
    "                if text.isdigit():\n",
    "                     return 'Insufficient data exist for the ML engine to continue'\n",
    "                \n",
    "                else:\n",
    "                    return text\n",
    "                \n",
    "        \n",
    "    except Exception as e:\n",
    "        return e"
   ]
  },
  {
   "cell_type": "code",
   "execution_count": null,
   "id": "9ec03828",
   "metadata": {},
   "outputs": [],
   "source": [
    "%%time\n",
    "closed_ticket[\"name_string_validation\"]=closed_ticket[\"Name\"].apply(string_validation)"
   ]
  },
  {
   "cell_type": "code",
   "execution_count": null,
   "id": "27d3b926",
   "metadata": {},
   "outputs": [],
   "source": [
    "closed_ticket.drop(closed_ticket[closed_ticket['name_string_validation'] == True].index,inplace=True)\n",
    "closed_ticket.reset_index(drop=True,inplace=True)"
   ]
  },
  {
   "cell_type": "markdown",
   "id": "df2553f7",
   "metadata": {},
   "source": [
    "## Language detection and transalation to english"
   ]
  },
  {
   "cell_type": "code",
   "execution_count": null,
   "id": "32505046",
   "metadata": {},
   "outputs": [],
   "source": [
    "from langdetect import detect\n",
    "from deep_translator import GoogleTranslator"
   ]
  },
  {
   "cell_type": "code",
   "execution_count": null,
   "id": "ef437d27",
   "metadata": {},
   "outputs": [],
   "source": [
    "def lang_detect(data):                                        \n",
    "   try:                                                          \n",
    "      return detect(data)                                      \n",
    "   except:                                                       \n",
    "      return 'Not identified'  "
   ]
  },
  {
   "cell_type": "code",
   "execution_count": null,
   "id": "39f252f1",
   "metadata": {},
   "outputs": [],
   "source": [
    "%%time\n",
    "closed_ticket['langue'] = closed_ticket['Name'].apply(lang_detect)\n",
    "closed_ticket = closed_ticket[closed_ticket['langue'] != 'Not identified']\n",
    "closed_ticket.reset_index(drop=True,inplace=True)"
   ]
  },
  {
   "cell_type": "code",
   "execution_count": null,
   "id": "d4aa7f74",
   "metadata": {},
   "outputs": [],
   "source": [
    "def lang_translate(text,lang):\n",
    "  try:\n",
    "    if lang == 'en':\n",
    "        return text\n",
    "    \n",
    "    else:\n",
    "        return  GoogleTranslator(source='auto', target='en').translate(text)\n",
    "  except:\n",
    "    return text"
   ]
  },
  {
   "cell_type": "code",
   "execution_count": null,
   "id": "ba42b75e",
   "metadata": {},
   "outputs": [],
   "source": [
    "%%time\n",
    "closed_ticket['translated_text'] = closed_ticket.apply(lambda x: lang_translate(x['Name'], x['langue']), axis=1)"
   ]
  },
  {
   "cell_type": "markdown",
   "id": "30763459",
   "metadata": {},
   "source": [
    "## Text pre-processing & Identifying the non-english character"
   ]
  },
  {
   "cell_type": "code",
   "execution_count": null,
   "id": "f7d515d3",
   "metadata": {},
   "outputs": [],
   "source": [
    "import nltk\n",
    "import string\n",
    "stopwords = nltk.corpus.stopwords.words('english')"
   ]
  },
  {
   "cell_type": "code",
   "execution_count": null,
   "id": "5f4df68a",
   "metadata": {},
   "outputs": [],
   "source": [
    "## to clean the text data\n",
    "\n",
    "def text_preprocessing(text,language):\n",
    "    \n",
    "    try:\n",
    "    \n",
    "        #removing the some special character and sign\n",
    "        text=re.sub(r'\\’|\\【|\\】|\\“|\\”|\\–|\\…|\\´|\\‐|\\’|\\—|\\•|\\‘|\\°|\\€|\\™|\\uf0e0|\\®|\\，|\\|\\！','', text) \n",
    "\n",
    "        #removing the some special character and sign\n",
    "        text=text.translate(str.maketrans('','',string.punctuation))\n",
    "\n",
    "        #will replace newline with space\n",
    "        text = re.sub(\"\\n\",\" \",text)\n",
    "\n",
    "        #will convert to lower case\n",
    "        text = text.lower()\n",
    "\n",
    "        # removing the stop words\n",
    "        text = ' '.join([word for word in text.split() if word not in (stopwords)])\n",
    "\n",
    "        #checking for the non-english characters\n",
    "        join_text=re.sub(r'\\ |\\  ','', text)\n",
    "        join_text=join_text.strip()\n",
    "        if join_text.isalnum ():\n",
    "            return text\n",
    "        else:\n",
    "            #checking='Non english'\n",
    "            if language == 'en':\n",
    "                return text\n",
    "            else:\n",
    "                return 'Non-English characters were found in the text, preventing the ML engine from proceeding'\n",
    "            \n",
    "    except Exception as e:\n",
    "        return e"
   ]
  },
  {
   "cell_type": "code",
   "execution_count": null,
   "id": "a9b6cbef",
   "metadata": {},
   "outputs": [],
   "source": [
    "%%time\n",
    "closed_ticket['cleaned_name'] = closed_ticket.apply(lambda x: text_preprocessing(x['translated_text'],x['langue']), axis=1)"
   ]
  },
  {
   "cell_type": "code",
   "execution_count": null,
   "id": "b79e2a4e",
   "metadata": {},
   "outputs": [],
   "source": [
    "non_english_character=closed_ticket[closed_ticket['cleaned_name']=='Non english']\n",
    "non_english_character.reset_index(drop=True,inplace=True)\n",
    "non_english_character.shape"
   ]
  },
  {
   "cell_type": "code",
   "execution_count": null,
   "id": "51b8df15",
   "metadata": {},
   "outputs": [],
   "source": [
    "english_character=closed_ticket[closed_ticket['cleaned_name']!='Non english']\n",
    "english_character.reset_index(drop=True,inplace=True)\n",
    "english_character.shape"
   ]
  },
  {
   "cell_type": "code",
   "execution_count": null,
   "id": "689953cd",
   "metadata": {},
   "outputs": [],
   "source": [
    "%%time\n",
    "non_english_character['translated_text'] = non_english_character.apply(lambda x: lang_translate(x['translated_text'], x['langue']), axis=1)"
   ]
  },
  {
   "cell_type": "code",
   "execution_count": null,
   "id": "c9008b72",
   "metadata": {},
   "outputs": [],
   "source": [
    "%%time\n",
    "non_english_character['cleaned_name'] = non_english_character.apply(lambda x: text_preprocessing(x['translated_text'],x['langue']), axis=1)"
   ]
  },
  {
   "cell_type": "code",
   "execution_count": null,
   "id": "7fb8b549",
   "metadata": {},
   "outputs": [],
   "source": [
    "closed_ticket=pd.concat([english_character, non_english_character])\n",
    "closed_ticket.reset_index(drop=True,inplace=True)"
   ]
  },
  {
   "cell_type": "code",
   "execution_count": null,
   "id": "1c894729",
   "metadata": {},
   "outputs": [],
   "source": [
    "def checking_len_string(text):\n",
    "    \n",
    "    string_length = len(text.split())\n",
    "    character_length = len(text)\n",
    "                        \n",
    "    if string_length <= 1 or character_length <= 1:\n",
    "        return \"Not Valid\"\n",
    "                        \n",
    "    else:\n",
    "        return \"Valid\""
   ]
  },
  {
   "cell_type": "code",
   "execution_count": null,
   "id": "041e8656",
   "metadata": {},
   "outputs": [],
   "source": [
    "%%time\n",
    "closed_ticket['string_length'] = closed_ticket['cleaned_name'].apply(checking_len_string)"
   ]
  },
  {
   "cell_type": "code",
   "execution_count": null,
   "id": "b90519f4",
   "metadata": {},
   "outputs": [],
   "source": [
    "closed_ticket.drop(closed_ticket[closed_ticket['string_length'] == \"Not Valid\"].index,inplace=True)"
   ]
  },
  {
   "cell_type": "markdown",
   "id": "15e7171e",
   "metadata": {},
   "source": [
    "## Priortize ticket (keyword identification based)"
   ]
  },
  {
   "cell_type": "code",
   "execution_count": null,
   "id": "1d8933d8",
   "metadata": {},
   "outputs": [],
   "source": [
    "data=closed_ticket[['Number','translated_text','cleaned_name','Priority','Urgency']]"
   ]
  },
  {
   "cell_type": "code",
   "execution_count": null,
   "id": "ebfcdf6f",
   "metadata": {},
   "outputs": [],
   "source": [
    "data['cleaned_name']=data['cleaned_name'].astype(str)\n",
    "data['translated_text']=data['translated_text'].astype(str)"
   ]
  },
  {
   "cell_type": "code",
   "execution_count": null,
   "id": "59882d81",
   "metadata": {},
   "outputs": [],
   "source": [
    "def new_priority(text,Priority):\n",
    "    \n",
    "    try:\n",
    "\n",
    "        if Priority == config['Medium']:\n",
    "            medium_prority_keyword = re.compile(medium_keyword)\n",
    "            if medium_prority_keyword.findall(text):\n",
    "                new_priority = config['High']\n",
    "                Message = 'Ticket is priortized from medium to high'\n",
    "                return new_priority,Message\n",
    "            \n",
    "            elif text.startswith(keyword_startwith):\n",
    "                new_priority = config['High']\n",
    "                Message = 'Ticket is priortized from medium to high'\n",
    "                return new_priority,Message\n",
    "            \n",
    "            else:\n",
    "                return Priority\n",
    "\n",
    "        elif Priority == config['Low']:\n",
    "            low_prority_keyword = re.compile(low_keyword)\n",
    "            if low_prority_keyword.findall(text):\n",
    "                new_priority = config['Medium']\n",
    "                Message = 'Ticket is priortized from low to medium'\n",
    "                return new_priority\n",
    "            else:\n",
    "                return Priority \n",
    "        else:\n",
    "            return Priority\n",
    "        \n",
    "    except Exception as e:\n",
    "        return e"
   ]
  },
  {
   "cell_type": "code",
   "execution_count": null,
   "id": "0dc51b4e",
   "metadata": {},
   "outputs": [],
   "source": [
    "%%time\n",
    "data['new_priority'] = data.apply(new_priority,axis=1)"
   ]
  },
  {
   "cell_type": "code",
   "execution_count": null,
   "id": "ee3f7f43",
   "metadata": {},
   "outputs": [],
   "source": []
  }
 ],
 "metadata": {
  "kernelspec": {
   "display_name": "Python 3 (ipykernel)",
   "language": "python",
   "name": "python3"
  },
  "language_info": {
   "codemirror_mode": {
    "name": "ipython",
    "version": 3
   },
   "file_extension": ".py",
   "mimetype": "text/x-python",
   "name": "python",
   "nbconvert_exporter": "python",
   "pygments_lexer": "ipython3",
   "version": "3.10.6"
  }
 },
 "nbformat": 4,
 "nbformat_minor": 5
}
