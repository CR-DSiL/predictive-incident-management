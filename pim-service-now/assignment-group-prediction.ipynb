{
 "cells": [
  {
   "cell_type": "markdown",
   "id": "47c4d6d3",
   "metadata": {},
   "source": [
    "#### Import the required Libraries "
   ]
  },
  {
   "cell_type": "code",
   "execution_count": null,
   "id": "5b749e38",
   "metadata": {},
   "outputs": [],
   "source": [
    "#Data handling packages\n",
    "import pandas as pd\n",
    "\n",
    "#Data processing packages\n",
    "import numpy as np\n",
    "\n",
    "#Visualization packages\n",
    "import matplotlib.pyplot as plt\n",
    "import seaborn as sns\n",
    "%matplotlib inline\n",
    "\n",
    "#Additional libraries \n",
    "import re\n",
    "import string\n",
    "import time\n",
    "import os\n",
    "\n",
    "#NLP based libraries\n",
    "from wordcloud import WordCloud, STOPWORDS\n",
    "from langdetect import detect\n",
    "from sklearn.feature_extraction.text import CountVectorizer\n",
    "import googletrans\n",
    "from googletrans import Translator\n",
    "\n",
    "\n",
    "#Preprocessing and model building libraries\n",
    "from sklearn.feature_extraction.text import TfidfVectorizer\n",
    "from sklearn import preprocessing\n",
    "from sklearn.preprocessing import LabelEncoder\n",
    "from sklearn.model_selection import train_test_split\n",
    "from sklearn.metrics import accuracy_score\n",
    "from sklearn.metrics import confusion_matrix\n",
    "from sklearn.metrics import classification_report\n",
    "from sklearn.metrics import make_scorer, roc_curve, roc_auc_score\n",
    "from sklearn.metrics import precision_recall_fscore_support as score\n",
    "from sklearn.svm import SVC, LinearSVC\n",
    "from sklearn.tree import DecisionTreeClassifier\n",
    "from sklearn.ensemble import RandomForestClassifier\n",
    "from sklearn.neighbors import KNeighborsClassifier\n",
    "from sklearn.naive_bayes import GaussianNB,MultinomialNB,BernoulliNB\n",
    "from sklearn.linear_model import LogisticRegression \n",
    "from sklearn.model_selection import cross_val_score\n",
    "from sklearn import metrics\n",
    "from xgboost import XGBClassifier\n",
    "from sklearn.feature_selection import chi2\n",
    "from sklearn.ensemble import GradientBoostingClassifier\n",
    "\n",
    "\n",
    "#framework \n",
    "import tensorflow as tf\n",
    "import tensorflow_hub as hub\n",
    "import tensorflow_text as text"
   ]
  },
  {
   "cell_type": "code",
   "execution_count": null,
   "id": "ac5e8938",
   "metadata": {},
   "outputs": [],
   "source": [
    "data= pd.read_csv(\"C:\\\\Users\\\\Riyaz Mehendi\\\\OneDrive - CriticalRiver Technologies Pvt. Ltd\\\\Desktop\\\\MVP Incident Management\\\\pim-assignment-group-prediction\\\\data\\\\processed\\\\final_processed_data_1_EBS.csv\")"
   ]
  },
  {
   "cell_type": "code",
   "execution_count": null,
   "id": "94fedd26",
   "metadata": {},
   "outputs": [],
   "source": [
    "data = data.replace(['Desktop Services UK', 'Desktop Services Brazil', 'Desktop Services USA Central','Desktop Services India','Desktop Services USA West','Desktop Services Germany','Desktop Services Singapore','Desktop Services USA East',\n",
    " 'Desktop Services Mexico','Desktop Services China','Desktop Services Canada','Desktop Services France','Desktop Services Romania','Desktop Services Thailand'], 'Desktop Services')\n"
   ]
  },
  {
   "cell_type": "code",
   "execution_count": null,
   "id": "9bd98d29",
   "metadata": {},
   "outputs": [],
   "source": [
    "data.info()"
   ]
  },
  {
   "cell_type": "code",
   "execution_count": null,
   "id": "e2666a38",
   "metadata": {},
   "outputs": [],
   "source": [
    "data=data.drop(['Opened','Resolved',\n",
    "       'Business resolve time', 'name_string_validation', 'langue',\n",
    "       'translated_text','string_length'], axis = 1)"
   ]
  },
  {
   "cell_type": "code",
   "execution_count": null,
   "id": "7c0f4afb",
   "metadata": {},
   "outputs": [],
   "source": [
    "target_names = data['Configuration item'].unique()"
   ]
  },
  {
   "cell_type": "code",
   "execution_count": null,
   "id": "7ca5d246",
   "metadata": {},
   "outputs": [],
   "source": [
    "target_names=list(target_names)"
   ]
  },
  {
   "cell_type": "code",
   "execution_count": null,
   "id": "f523a63a",
   "metadata": {},
   "outputs": [],
   "source": [
    "len(target_names)"
   ]
  },
  {
   "cell_type": "code",
   "execution_count": null,
   "id": "adef7301",
   "metadata": {},
   "outputs": [],
   "source": [
    "data.isnull().sum()"
   ]
  },
  {
   "cell_type": "code",
   "execution_count": null,
   "id": "ca7f7f0a",
   "metadata": {},
   "outputs": [],
   "source": [
    "data = data.replace(np.nan, 'Others')"
   ]
  },
  {
   "cell_type": "code",
   "execution_count": null,
   "id": "64e38335",
   "metadata": {},
   "outputs": [],
   "source": [
    "data.isnull().sum()"
   ]
  },
  {
   "cell_type": "code",
   "execution_count": null,
   "id": "3d9cac09",
   "metadata": {},
   "outputs": [],
   "source": [
    "data['cleaned_name']=data['cleaned_name'].astype(str)"
   ]
  },
  {
   "cell_type": "markdown",
   "id": "5e1521c0",
   "metadata": {},
   "source": [
    "Encoding the categorical variables"
   ]
  },
  {
   "cell_type": "code",
   "execution_count": null,
   "id": "eacb25f1",
   "metadata": {},
   "outputs": [],
   "source": [
    "data.replace({'1 - High': 1, '2 - Medium': 2,'3 - Low':3},inplace=True)"
   ]
  },
  {
   "cell_type": "code",
   "execution_count": null,
   "id": "2cb23e94",
   "metadata": {},
   "outputs": [],
   "source": [
    "data.replace({'1 - Immediate': 1, '2 - Important': 2,'3 - Standard':3},inplace=True)"
   ]
  },
  {
   "cell_type": "code",
   "execution_count": null,
   "id": "46e77d45",
   "metadata": {},
   "outputs": [],
   "source": [
    "data['Assignment group'].unique()"
   ]
  },
  {
   "cell_type": "code",
   "execution_count": null,
   "id": "0b368148",
   "metadata": {},
   "outputs": [],
   "source": [
    "data.replace({'Messaging':0,'EBS - CRM Technical':1, 'Core IT Infrastructure':2, 'Helpdesk Team':3,\n",
    "       'Front Office Applications':4, 'Desktop Services':5, 'EBS - CRM':6,\n",
    "       'EBS - Finance':7, 'EBS - DBA':8, 'Oracle Apex':9,\n",
    "       'EBS - Order Management':10, 'Oracle OIM/OID':11, 'Data Warehouse AM':12,\n",
    "       'Active Directory':13, 'OSP Notes Support':14, 'Web Services':15,\n",
    "       'GNTS -- L1 Global Network & Telecom Services':16, 'HRIS':17,\n",
    "       'RPA Development & Support':18, 'Enterprise IT Infrastructure':19,\n",
    "       'Service Now':20, 'Genesys Support Group':21, 'IT - Wireless':22,\n",
    "       'SME - RevPro':23, 'DSG':24, 'InfoSec Operations':25, 'EBS - Procurement':26,\n",
    "       'EBS - Agile':27, 'Hyperion':28, 'IT - Expandium':29, 'Linux Wireless ':30,\n",
    "       'Custom Apps':31, 'AvComm Applications ':32, 'EBS - Markview':33,\n",
    "       'ViaviCentral Team':34, 'R12 Responsibilities & Data Conversion':35,\n",
    "       'EBS - Manufacturing':36, 'OSP Tableau Support':37, 'NSE QE Product':38,\n",
    "       'R&D IT Infrastructure':39, 'Oracle: SOA':40,\n",
    "       'Trend Micro Agent support':41, 'ESAP Support':42, 'SQL Server DBA':43,\n",
    "       'OSP Other MFG Support':44, 'PGP Desktop':45, 'SCM Support ':46,\n",
    "       'PRM-Business Process Users':47, 'EBS - Human Resources':48, 'IT Audit':49,\n",
    "       'Taleo Admin':50, 'Ricoh':51, 'OSP MES Support':52,\n",
    "       'Application Support EMEA':53, 'OSP Barcode Printing Support':54,\n",
    "       'EBS - Data Management':55, 'NSE Tableau Support':56,\n",
    "       'EBS - Finance Technical':57, 'Sabrix Support':58,\n",
    "       'Data Center Infrastructure':59, 'Web Marketing':60,\n",
    "       'InfoSec Incident Response':61, 'EBS - Markview Technical ':62,\n",
    "       'EBS - Human Resources Technical ':63, 'SharePoint':64,\n",
    "       'Licensing Portal':65, 'HP Quality Support':66, 'MES Support':67,\n",
    "       'NSE Operations':68},inplace=True)"
   ]
  },
  {
   "cell_type": "code",
   "execution_count": null,
   "id": "368eb208",
   "metadata": {},
   "outputs": [],
   "source": [
    "def EncodeSingleColumn(data):\n",
    "    le = preprocessing.LabelEncoder()\n",
    "    le.fit(data)\n",
    "    return le.transform(data)"
   ]
  },
  {
   "cell_type": "code",
   "execution_count": null,
   "id": "eef6c082",
   "metadata": {},
   "outputs": [],
   "source": [
    "def EncodeColumnsCollection(data, columnsToEncrypt):\n",
    "    #for column in columnsToEncrypt:\n",
    "    data[columnsToEncrypt] = EncodeSingleColumn(data[columnsToEncrypt])\n",
    "    return data"
   ]
  },
  {
   "cell_type": "code",
   "execution_count": null,
   "id": "f2e5b3e0",
   "metadata": {},
   "outputs": [],
   "source": [
    "data['Configuration item']=data['Configuration item'].astype(str)"
   ]
  },
  {
   "cell_type": "code",
   "execution_count": null,
   "id": "03dada88",
   "metadata": {},
   "outputs": [],
   "source": [
    "# Select columns for encryption\n",
    "#columnsToEncode = ['Configuration item','Subcategory','Category']\n",
    "\n",
    "# Encrypt data for each of selected columns\n",
    "df_encoded = EncodeColumnsCollection(data, 'Configuration item')"
   ]
  },
  {
   "cell_type": "code",
   "execution_count": null,
   "id": "1407ad88",
   "metadata": {},
   "outputs": [],
   "source": [
    "df_encoded"
   ]
  },
  {
   "cell_type": "code",
   "execution_count": null,
   "id": "0e53a936",
   "metadata": {},
   "outputs": [],
   "source": [
    "df_encoded=df_encoded.drop(['Number','Name','Subcategory','Category','cleaned_name'], axis = 1)"
   ]
  },
  {
   "cell_type": "code",
   "execution_count": null,
   "id": "a84765b9",
   "metadata": {},
   "outputs": [],
   "source": [
    "df_encoded.describe()"
   ]
  },
  {
   "cell_type": "markdown",
   "id": "648d9b34",
   "metadata": {},
   "source": [
    "#### Text Embedding using USE technique"
   ]
  },
  {
   "cell_type": "code",
   "execution_count": null,
   "id": "1c356b4e",
   "metadata": {},
   "outputs": [],
   "source": [
    "module_url = \"https://tfhub.dev/google/universal-sentence-encoder/4\" \n",
    "model = hub.load(module_url)\n",
    "print (\"module %s loaded\" % module_url)"
   ]
  },
  {
   "cell_type": "code",
   "execution_count": null,
   "id": "d4fe857f",
   "metadata": {},
   "outputs": [],
   "source": [
    "embedded_desc1 = model(data['cleaned_name'])"
   ]
  },
  {
   "cell_type": "code",
   "execution_count": null,
   "id": "5ed53778",
   "metadata": {},
   "outputs": [],
   "source": [
    "embedded_desc1"
   ]
  },
  {
   "cell_type": "code",
   "execution_count": null,
   "id": "4f542ec4",
   "metadata": {},
   "outputs": [],
   "source": [
    "#converta array into dataframe\n",
    "embedded_desc1=pd.DataFrame(embedded_desc1)\n",
    "embedded_desc1.head()"
   ]
  },
  {
   "cell_type": "code",
   "execution_count": null,
   "id": "a9929499",
   "metadata": {},
   "outputs": [],
   "source": [
    "new_data = pd.concat([embedded_desc1, df_encoded], axis=1)"
   ]
  },
  {
   "cell_type": "code",
   "execution_count": null,
   "id": "d243a2be",
   "metadata": {},
   "outputs": [],
   "source": [
    "new_data"
   ]
  },
  {
   "cell_type": "code",
   "execution_count": null,
   "id": "2ea2ffb2",
   "metadata": {},
   "outputs": [],
   "source": []
  },
  {
   "cell_type": "markdown",
   "id": "25100df4",
   "metadata": {},
   "source": [
    "Split the Dataset into Train and Test"
   ]
  },
  {
   "cell_type": "code",
   "execution_count": null,
   "id": "8401e135",
   "metadata": {},
   "outputs": [],
   "source": [
    "y= new_data['Assignment group']"
   ]
  },
  {
   "cell_type": "code",
   "execution_count": null,
   "id": "2bea0602",
   "metadata": {},
   "outputs": [],
   "source": [
    "X= new_data.drop(['Assignment group'], axis = 1)"
   ]
  },
  {
   "cell_type": "code",
   "execution_count": null,
   "id": "82fb2ae3",
   "metadata": {},
   "outputs": [],
   "source": [
    "x_train, x_test, y_train, y_test = train_test_split(X, y, test_size=0.2, random_state = 0,stratify=y)\n",
    "print(len(x_train))\n",
    "print(len(x_test))"
   ]
  },
  {
   "cell_type": "code",
   "execution_count": null,
   "id": "002733e6",
   "metadata": {},
   "outputs": [],
   "source": [
    "y_train.value_counts()"
   ]
  },
  {
   "cell_type": "markdown",
   "id": "830ff342",
   "metadata": {},
   "source": [
    "#### Model Building"
   ]
  },
  {
   "cell_type": "code",
   "execution_count": null,
   "id": "aba19ff4",
   "metadata": {},
   "outputs": [],
   "source": [
    "XGB_model= XGBClassifier().fit(x_train,y_train)\n",
    "y_pred1 = XGB_model.predict(x_test)"
   ]
  },
  {
   "cell_type": "code",
   "execution_count": null,
   "id": "1e4f22d4",
   "metadata": {},
   "outputs": [],
   "source": [
    "###### Classification report\n",
    "print('\\tCLASSIFICATIION METRICS\\n')\n",
    "print(metrics.classification_report(y_test, y_pred1))"
   ]
  },
  {
   "cell_type": "code",
   "execution_count": null,
   "id": "e16b89c1",
   "metadata": {},
   "outputs": [],
   "source": []
  },
  {
   "cell_type": "code",
   "execution_count": null,
   "id": "335766bd",
   "metadata": {},
   "outputs": [],
   "source": []
  },
  {
   "cell_type": "code",
   "execution_count": null,
   "id": "77f701bb",
   "metadata": {},
   "outputs": [],
   "source": []
  },
  {
   "cell_type": "code",
   "execution_count": null,
   "id": "e440350e",
   "metadata": {},
   "outputs": [],
   "source": []
  },
  {
   "cell_type": "code",
   "execution_count": null,
   "id": "954d6524",
   "metadata": {},
   "outputs": [],
   "source": []
  },
  {
   "cell_type": "code",
   "execution_count": null,
   "id": "f74023f5",
   "metadata": {},
   "outputs": [],
   "source": []
  },
  {
   "cell_type": "code",
   "execution_count": null,
   "id": "52545630",
   "metadata": {},
   "outputs": [],
   "source": []
  },
  {
   "cell_type": "code",
   "execution_count": null,
   "id": "f13c4739",
   "metadata": {},
   "outputs": [],
   "source": []
  },
  {
   "cell_type": "code",
   "execution_count": null,
   "id": "9cf02983",
   "metadata": {},
   "outputs": [],
   "source": []
  },
  {
   "cell_type": "code",
   "execution_count": null,
   "id": "430ca88b",
   "metadata": {},
   "outputs": [],
   "source": []
  },
  {
   "cell_type": "code",
   "execution_count": null,
   "id": "b4ce02b3",
   "metadata": {},
   "outputs": [],
   "source": []
  },
  {
   "cell_type": "code",
   "execution_count": null,
   "id": "4730a8f2",
   "metadata": {},
   "outputs": [],
   "source": []
  },
  {
   "cell_type": "code",
   "execution_count": null,
   "id": "e8dea220",
   "metadata": {},
   "outputs": [],
   "source": []
  },
  {
   "cell_type": "code",
   "execution_count": null,
   "id": "48ad7ce5",
   "metadata": {},
   "outputs": [],
   "source": []
  },
  {
   "cell_type": "code",
   "execution_count": null,
   "id": "bd773d78",
   "metadata": {},
   "outputs": [],
   "source": []
  },
  {
   "cell_type": "code",
   "execution_count": null,
   "id": "a821159e",
   "metadata": {},
   "outputs": [],
   "source": []
  },
  {
   "cell_type": "code",
   "execution_count": null,
   "id": "143e9ca8",
   "metadata": {},
   "outputs": [],
   "source": []
  },
  {
   "cell_type": "code",
   "execution_count": null,
   "id": "620b221c",
   "metadata": {},
   "outputs": [],
   "source": []
  },
  {
   "cell_type": "code",
   "execution_count": null,
   "id": "726e7fda",
   "metadata": {},
   "outputs": [],
   "source": []
  },
  {
   "cell_type": "code",
   "execution_count": null,
   "id": "5aab8c1b",
   "metadata": {},
   "outputs": [],
   "source": []
  },
  {
   "cell_type": "code",
   "execution_count": null,
   "id": "fb5d3ddf",
   "metadata": {},
   "outputs": [],
   "source": []
  },
  {
   "cell_type": "code",
   "execution_count": null,
   "id": "45bd0592",
   "metadata": {},
   "outputs": [],
   "source": []
  },
  {
   "cell_type": "code",
   "execution_count": null,
   "id": "8a6ebd2e",
   "metadata": {},
   "outputs": [],
   "source": []
  }
 ],
 "metadata": {
  "kernelspec": {
   "display_name": "Python 3 (ipykernel)",
   "language": "python",
   "name": "python3"
  },
  "language_info": {
   "codemirror_mode": {
    "name": "ipython",
    "version": 3
   },
   "file_extension": ".py",
   "mimetype": "text/x-python",
   "name": "python",
   "nbconvert_exporter": "python",
   "pygments_lexer": "ipython3",
   "version": "3.10.6"
  }
 },
 "nbformat": 4,
 "nbformat_minor": 5
}
