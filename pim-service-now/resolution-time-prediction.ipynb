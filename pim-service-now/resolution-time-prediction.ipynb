{
 "cells": [
  {
   "cell_type": "markdown",
   "id": "7def531d",
   "metadata": {},
   "source": [
    "### Download the Dependencies"
   ]
  },
  {
   "cell_type": "code",
   "execution_count": null,
   "id": "2e51de17",
   "metadata": {},
   "outputs": [],
   "source": [
    "import pandas as pd\n",
    "import numpy as np"
   ]
  },
  {
   "cell_type": "markdown",
   "id": "417cca6c",
   "metadata": {},
   "source": [
    "### Loading the Data"
   ]
  },
  {
   "cell_type": "code",
   "execution_count": null,
   "id": "40d1ba86",
   "metadata": {},
   "outputs": [],
   "source": [
    "df= pd.read_excel('IT Incidents Dashboard FY22 Q4 V1.xlsx')"
   ]
  },
  {
   "cell_type": "markdown",
   "id": "0b98c57a",
   "metadata": {},
   "source": [
    "### Showing the Data"
   ]
  },
  {
   "cell_type": "code",
   "execution_count": null,
   "id": "5683f7d4",
   "metadata": {},
   "outputs": [],
   "source": [
    "df.head()"
   ]
  },
  {
   "cell_type": "markdown",
   "id": "3a28f9e5",
   "metadata": {},
   "source": [
    "### Datatype of Features"
   ]
  },
  {
   "cell_type": "code",
   "execution_count": null,
   "id": "d5023c32",
   "metadata": {},
   "outputs": [],
   "source": [
    "df.info()"
   ]
  },
  {
   "cell_type": "markdown",
   "id": "5757edb7",
   "metadata": {},
   "source": [
    "### Checking the Missing Values"
   ]
  },
  {
   "cell_type": "code",
   "execution_count": null,
   "id": "4076493e",
   "metadata": {},
   "outputs": [],
   "source": [
    "df.isnull().sum()"
   ]
  },
  {
   "cell_type": "markdown",
   "id": "a21aaf23",
   "metadata": {},
   "source": [
    "### Considering the tickets of Closed States"
   ]
  },
  {
   "cell_type": "code",
   "execution_count": null,
   "id": "149a8216",
   "metadata": {},
   "outputs": [],
   "source": [
    "df =df[df['Incident state']=='Closed']"
   ]
  },
  {
   "cell_type": "markdown",
   "id": "0913c144",
   "metadata": {},
   "source": [
    "### Dropping the irreleavant Columns"
   ]
  },
  {
   "cell_type": "code",
   "execution_count": null,
   "id": "8f5b12e8",
   "metadata": {},
   "outputs": [],
   "source": [
    "df.drop(['YY-MM','Assigned to','Customer','Updated','Description','Active','RFC','Caused by Change',\n",
    "         'Resolution Action','Explain Resolution','Resolve time','SLA due','Due date','Urgency',\n",
    "         'Actual end date','Actual start date','Resolution Code','Contact Type','Resolved by','Subcategory','Category','Made SLA'],axis=1,inplace=True)"
   ]
  },
  {
   "cell_type": "code",
   "execution_count": null,
   "id": "2cba83cb",
   "metadata": {},
   "outputs": [],
   "source": [
    "df.columns"
   ]
  },
  {
   "cell_type": "code",
   "execution_count": null,
   "id": "b020ba47",
   "metadata": {},
   "outputs": [],
   "source": [
    "df.head()"
   ]
  },
  {
   "cell_type": "markdown",
   "id": "4bf42467",
   "metadata": {},
   "source": [
    "#### After dropping the columns, checking the misssing values of Dataframe"
   ]
  },
  {
   "cell_type": "code",
   "execution_count": null,
   "id": "0b75464c",
   "metadata": {
    "scrolled": true
   },
   "outputs": [],
   "source": [
    "df.isnull().sum()"
   ]
  },
  {
   "cell_type": "code",
   "execution_count": null,
   "id": "506e8a36",
   "metadata": {},
   "outputs": [],
   "source": [
    "df.shape"
   ]
  },
  {
   "cell_type": "code",
   "execution_count": null,
   "id": "6e80b35c",
   "metadata": {},
   "outputs": [],
   "source": [
    "df['Business resolve time'] = df['Business resolve time'].fillna(0)"
   ]
  },
  {
   "cell_type": "code",
   "execution_count": null,
   "id": "c2e47ff3",
   "metadata": {},
   "outputs": [],
   "source": [
    "df.isnull().sum()"
   ]
  },
  {
   "cell_type": "code",
   "execution_count": null,
   "id": "ba7eded6",
   "metadata": {},
   "outputs": [],
   "source": [
    "df[df['Business resolve time']==0]"
   ]
  },
  {
   "cell_type": "code",
   "execution_count": null,
   "id": "72191cbd",
   "metadata": {},
   "outputs": [],
   "source": [
    "### Dropping the misssing values from specified columns"
   ]
  },
  {
   "cell_type": "code",
   "execution_count": null,
   "id": "016c9cd0",
   "metadata": {},
   "outputs": [],
   "source": [
    "df = df.dropna(subset=['Name','Resolved'])"
   ]
  },
  {
   "cell_type": "code",
   "execution_count": null,
   "id": "4fe9ad9f",
   "metadata": {},
   "outputs": [],
   "source": [
    "df.isnull().sum()"
   ]
  },
  {
   "cell_type": "code",
   "execution_count": null,
   "id": "2ef49a35",
   "metadata": {},
   "outputs": [],
   "source": [
    "df.shape"
   ]
  },
  {
   "cell_type": "code",
   "execution_count": null,
   "id": "93f5c37a",
   "metadata": {},
   "outputs": [],
   "source": [
    "df.dtypes"
   ]
  },
  {
   "cell_type": "code",
   "execution_count": null,
   "id": "2dec1425",
   "metadata": {},
   "outputs": [],
   "source": []
  },
  {
   "cell_type": "markdown",
   "id": "2821945f",
   "metadata": {},
   "source": [
    "#### There are some datatime Data in Business Resolve time column.so Not considering those Data in DataFrame"
   ]
  },
  {
   "cell_type": "code",
   "execution_count": null,
   "id": "914796f5",
   "metadata": {},
   "outputs": [],
   "source": [
    "df=df.loc[(df['Business resolve time'] !='1-Sep-06')&(df['Business resolve time'] !='20-Jun-13')&(df['Business resolve time'] !='16-Feb-55')\n",
    "      &(df['Business resolve time'] !='11-Aug-52')&(df['Business resolve time'] !='28-Dec-86')&(df['Business resolve time'] !='20-Jul-36')&\n",
    "      (df['Business resolve time'] !='20-Jul-36')&(df['Business resolve time'] !='24-Aug-60')&(df['Business resolve time'] !='27-Jan-26')&\n",
    "      (df['Business resolve time'] !='27-Sep-41')&(df['Business resolve time'] !='23-Oct-30')&(df['Business resolve time'] !='20-Jul-36')&\n",
    "     (df['Business resolve time'] !='12-Jun-58')&(df['Business resolve time']!='23-Aug-84')&(df['Business resolve time']!='24-Jan-54')]"
   ]
  },
  {
   "cell_type": "code",
   "execution_count": null,
   "id": "a2a56c77",
   "metadata": {},
   "outputs": [],
   "source": [
    "df.dtypes"
   ]
  },
  {
   "cell_type": "code",
   "execution_count": null,
   "id": "605110b5",
   "metadata": {},
   "outputs": [],
   "source": [
    "df.shape"
   ]
  },
  {
   "cell_type": "markdown",
   "id": "8a4d30e5",
   "metadata": {},
   "source": [
    "#### Changing the data types for Resolved,Opened and Business resolve time columns"
   ]
  },
  {
   "cell_type": "code",
   "execution_count": null,
   "id": "28759cca",
   "metadata": {},
   "outputs": [],
   "source": [
    "df['Business resolve time']=pd.to_numeric(df['Business resolve time'],errors='coerce')"
   ]
  },
  {
   "cell_type": "code",
   "execution_count": null,
   "id": "0b237833",
   "metadata": {},
   "outputs": [],
   "source": [
    "df['Resolved']=pd.to_datetime(df['Resolved'])\n",
    "df['Opened']=pd.to_datetime(df['Opened'])"
   ]
  },
  {
   "cell_type": "code",
   "execution_count": null,
   "id": "6c73fe3e",
   "metadata": {},
   "outputs": [],
   "source": [
    "df.dtypes"
   ]
  },
  {
   "cell_type": "code",
   "execution_count": null,
   "id": "3ae3cac4",
   "metadata": {},
   "outputs": [],
   "source": [
    "#therer are lots of negative values also\n",
    "# We will take absolute values \n",
    " \n",
    "df['seconds_to_complete']=np.abs(np.array((df['Resolved']-df['Opened'])))"
   ]
  },
  {
   "cell_type": "code",
   "execution_count": null,
   "id": "d1989dc2",
   "metadata": {},
   "outputs": [],
   "source": [
    "df['seconds_to_complete']=df['seconds_to_complete']/np.timedelta64(1,'s')"
   ]
  },
  {
   "cell_type": "code",
   "execution_count": null,
   "id": "1abf9b52",
   "metadata": {},
   "outputs": [],
   "source": [
    "df.head()"
   ]
  },
  {
   "cell_type": "code",
   "execution_count": null,
   "id": "5c816bbe",
   "metadata": {},
   "outputs": [],
   "source": [
    "df['Business resolve time']=df['Business resolve time'].mask(df['Business resolve time'].eq(0.0),df['seconds_to_complete'])\n",
    "\n",
    "\n",
    "# df[(df['Business resolve time']==0)|(df['Business resolve time'] =='')]\n",
    "# df.loc[(df['Business resolve time']==0)|(df['Business resolve time'] ==''),'result']='success'"
   ]
  },
  {
   "cell_type": "code",
   "execution_count": null,
   "id": "a7257243",
   "metadata": {},
   "outputs": [],
   "source": [
    "df"
   ]
  },
  {
   "cell_type": "code",
   "execution_count": null,
   "id": "b9de0d50",
   "metadata": {},
   "outputs": [],
   "source": []
  },
  {
   "cell_type": "code",
   "execution_count": null,
   "id": "d7bc424d",
   "metadata": {},
   "outputs": [],
   "source": [
    "df.shape"
   ]
  },
  {
   "cell_type": "code",
   "execution_count": null,
   "id": "fff55c5a",
   "metadata": {},
   "outputs": [],
   "source": []
  },
  {
   "cell_type": "code",
   "execution_count": null,
   "id": "44efdcf9",
   "metadata": {},
   "outputs": [],
   "source": []
  },
  {
   "cell_type": "code",
   "execution_count": null,
   "id": "14890b39",
   "metadata": {},
   "outputs": [],
   "source": [
    "df.to_csv('check.csv',index=False)"
   ]
  },
  {
   "cell_type": "code",
   "execution_count": null,
   "id": "56b675e7",
   "metadata": {},
   "outputs": [],
   "source": [
    "df.dtypes"
   ]
  },
  {
   "cell_type": "markdown",
   "id": "0743c628",
   "metadata": {},
   "source": [
    "#### Saving the Preprocessed Data in csv"
   ]
  },
  {
   "cell_type": "code",
   "execution_count": null,
   "id": "3e593814",
   "metadata": {},
   "outputs": [],
   "source": [
    "df.to_csv('Preprocessed_data.csv',index=False)"
   ]
  },
  {
   "cell_type": "markdown",
   "id": "f11675d7",
   "metadata": {},
   "source": [
    "#### How many assignment groups are present in Preprocessed Data"
   ]
  },
  {
   "cell_type": "code",
   "execution_count": null,
   "id": "88949bf7",
   "metadata": {},
   "outputs": [],
   "source": [
    "assignment_group_list = df['Assignment group'].unique().tolist()\n",
    "print('Number of assignment groups are: ' ,len(assignment_group_list))"
   ]
  },
  {
   "cell_type": "markdown",
   "id": "d25187e2",
   "metadata": {},
   "source": [
    "#### How many configuration items are present in Preprocessed Data"
   ]
  },
  {
   "cell_type": "code",
   "execution_count": null,
   "id": "4c380997",
   "metadata": {},
   "outputs": [],
   "source": [
    "configuration_items_list = df['Configuration item'].tolist()"
   ]
  },
  {
   "cell_type": "markdown",
   "id": "122f081c",
   "metadata": {},
   "source": [
    "#### How many types of priority are present in Preprocessed Data"
   ]
  },
  {
   "cell_type": "code",
   "execution_count": null,
   "id": "b96e9437",
   "metadata": {},
   "outputs": [],
   "source": [
    "# priority_list = df['Priority'].tolist()\n",
    "priority_list =['2 - Medium','3 - Low','1 - High']"
   ]
  },
  {
   "cell_type": "markdown",
   "id": "115c15b1",
   "metadata": {},
   "source": [
    "#### Created function to get average resolution time"
   ]
  },
  {
   "cell_type": "code",
   "execution_count": null,
   "id": "55b8f836",
   "metadata": {},
   "outputs": [],
   "source": [
    "def mean_resolution_time_hr(df,assignment_group,configuration_item,priority_):\n",
    "    \n",
    "    hrs=3600\n",
    "    data_df = df[(df['Assignment group']==assignment_group)&(df['Configuration item']==configuration_item)]\n",
    "    data_df= data_df[data_df['Priority']==priority_]\n",
    "    data_df  = data_df['Business resolve time'].mean()\n",
    "    mean_time = (data_df/hrs)  \n",
    "    return mean_time\n",
    "    "
   ]
  },
  {
   "cell_type": "code",
   "execution_count": null,
   "id": "e626dcf9",
   "metadata": {},
   "outputs": [],
   "source": [
    "#assingment_group='Messaging'"
   ]
  },
  {
   "cell_type": "code",
   "execution_count": null,
   "id": "5a5443e8",
   "metadata": {},
   "outputs": [],
   "source": [
    "mean_resolution_time_hr"
   ]
  },
  {
   "cell_type": "code",
   "execution_count": null,
   "id": "15b5bf25",
   "metadata": {},
   "outputs": [],
   "source": [
    "result = pd.DataFrame(columns=['Assignment','Configuration','priority','Average_Resolution_Time_Hour'])"
   ]
  },
  {
   "cell_type": "markdown",
   "id": "b5ff7a00",
   "metadata": {},
   "source": [
    "#### Creating the configuration item based on assignment groups in dictionary format"
   ]
  },
  {
   "cell_type": "code",
   "execution_count": null,
   "id": "19cd49de",
   "metadata": {
    "scrolled": true
   },
   "outputs": [],
   "source": [
    "def configuration_items(df,assignment_group):\n",
    "    \n",
    "    data = df[(df['Assignment group']==assignment_group)]\n",
    "    data = data['Configuration item'].unique().tolist()\n",
    "    return data    "
   ]
  },
  {
   "cell_type": "code",
   "execution_count": null,
   "id": "353b6399",
   "metadata": {},
   "outputs": [],
   "source": [
    "dict_assignment_configuration = {}\n",
    "for assignment_group_name in assignment_group_list:\n",
    "        configuration_items_list = configuration_items(df,assignment_group_name)\n",
    "        dict_assignment_configuration.update({\n",
    "        assignment_group_name: configuration_items_list\n",
    "    })         "
   ]
  },
  {
   "cell_type": "code",
   "execution_count": null,
   "id": "3aa8101a",
   "metadata": {},
   "outputs": [],
   "source": [
    "# dict_assignment_configuration"
   ]
  },
  {
   "cell_type": "markdown",
   "id": "64f2ce93",
   "metadata": {},
   "source": [
    " using the dictionary in terms of assignment group and its configuration item list and priority list,\n",
    "looping in the for loop with mean_resolution_time_hr function and\n",
    " getting the average resolution time(hours)"
   ]
  },
  {
   "cell_type": "code",
   "execution_count": null,
   "id": "d40f8536",
   "metadata": {
    "scrolled": false
   },
   "outputs": [],
   "source": [
    " for i, (dict_keys,dict_values) in enumerate(dict_assignment_configuration.items()):\n",
    "    for configuration_item in dict_values:\n",
    "        for priority in priority_list:\n",
    "            values=(mean_resolution_time_hr(df,dict_keys,configuration_item,priority))\n",
    "            mapping_values_with_result=[dict_keys,configuration_item,priority,values]\n",
    "            result.loc[len(result)]=mapping_values_with_result          "
   ]
  },
  {
   "cell_type": "code",
   "execution_count": null,
   "id": "e107ae63",
   "metadata": {},
   "outputs": [],
   "source": [
    "#mapping_values_with_result"
   ]
  },
  {
   "cell_type": "markdown",
   "id": "6bd947c6",
   "metadata": {},
   "source": [
    "#### output of the Average resolution_time(hrs)"
   ]
  },
  {
   "cell_type": "code",
   "execution_count": null,
   "id": "3aa036b7",
   "metadata": {},
   "outputs": [],
   "source": [
    "result"
   ]
  },
  {
   "cell_type": "code",
   "execution_count": null,
   "id": "cbd72a14",
   "metadata": {},
   "outputs": [],
   "source": [
    "result['Average_Resolution_Time_Hour']= result['Average_Resolution_Time_Hour'].round(2)"
   ]
  },
  {
   "cell_type": "code",
   "execution_count": null,
   "id": "6d15a512",
   "metadata": {},
   "outputs": [],
   "source": [
    "result[\"Average_Resolution_Time_Hour\"].fillna(\"Null\", inplace= True)\n",
    "result"
   ]
  },
  {
   "cell_type": "markdown",
   "id": "0bbcad5c",
   "metadata": {},
   "source": [
    "#### saving the result in csv format"
   ]
  },
  {
   "cell_type": "code",
   "execution_count": null,
   "id": "41b78f4a",
   "metadata": {},
   "outputs": [],
   "source": [
    "result.to_csv('resolution_lookup.csv',index=False)"
   ]
  },
  {
   "cell_type": "code",
   "execution_count": null,
   "id": "b9010879",
   "metadata": {},
   "outputs": [],
   "source": []
  }
 ],
 "metadata": {
  "kernelspec": {
   "display_name": "Python 3 (ipykernel)",
   "language": "python",
   "name": "python3"
  },
  "language_info": {
   "codemirror_mode": {
    "name": "ipython",
    "version": 3
   },
   "file_extension": ".py",
   "mimetype": "text/x-python",
   "name": "python",
   "nbconvert_exporter": "python",
   "pygments_lexer": "ipython3",
   "version": "3.10.6"
  }
 },
 "nbformat": 4,
 "nbformat_minor": 5
}
